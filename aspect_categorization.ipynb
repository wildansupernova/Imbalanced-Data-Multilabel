{
 "cells": [
  {
   "cell_type": "code",
   "execution_count": null,
   "metadata": {
    "colab": {},
    "colab_type": "code",
    "id": "lSKC9RVkEYkw"
   },
   "outputs": [],
   "source": [
    "from numpy.random import seed\n",
    "seed(7)\n",
    "from tensorflow import set_random_seed\n",
    "set_random_seed(7)"
   ]
  },
  {
   "cell_type": "code",
   "execution_count": null,
   "metadata": {
    "colab": {
     "base_uri": "https://localhost:8080/",
     "height": 51
    },
    "colab_type": "code",
    "id": "tHf8vRRHUXlZ",
    "outputId": "929b3562-6cce-4c57-efd5-336f66db2e72"
   },
   "outputs": [
    {
     "name": "stdout",
     "output_type": "stream",
     "text": [
      "\u001b[K     |████████████████████████████████| 993kB 5.0MB/s eta 0:00:01\n",
      "\u001b[?25h  Building wheel for PyDrive (setup.py) ... \u001b[?25l\u001b[?25hdone\n"
     ]
    }
   ],
   "source": [
    "# Code to read csv file into Colaboratory:\n",
    "!pip install -U -q PyDrive\n",
    "from pydrive.auth import GoogleAuth\n",
    "from pydrive.drive import GoogleDrive\n",
    "from google.colab import auth\n",
    "from oauth2client.client import GoogleCredentials\n",
    "# Authenticate and create the PyDrive client.\n",
    "auth.authenticate_user()\n",
    "gauth = GoogleAuth()\n",
    "gauth.credentials = GoogleCredentials.get_application_default()\n",
    "drive = GoogleDrive(gauth)"
   ]
  },
  {
   "cell_type": "code",
   "execution_count": null,
   "metadata": {
    "colab": {
     "base_uri": "https://localhost:8080/",
     "height": 34
    },
    "colab_type": "code",
    "id": "3glZ11fB8tLh",
    "outputId": "155974f9-cc4f-4564-c023-3ac027ac8a37"
   },
   "outputs": [
    {
     "name": "stdout",
     "output_type": "stream",
     "text": [
      "\u001b[K     |████████████████████████████████| 92kB 5.5MB/s eta 0:00:011\n",
      "\u001b[?25h"
     ]
    }
   ],
   "source": [
    "!pip install -q scikit-multilearn"
   ]
  },
  {
   "cell_type": "code",
   "execution_count": null,
   "metadata": {
    "colab": {
     "base_uri": "https://localhost:8080/",
     "height": 34
    },
    "colab_type": "code",
    "id": "-MdDenhI8Rpf",
    "outputId": "c4f053e9-054e-4a56-f7a2-8d0132012196"
   },
   "outputs": [
    {
     "name": "stderr",
     "output_type": "stream",
     "text": [
      "Using TensorFlow backend.\n"
     ]
    }
   ],
   "source": [
    "import numpy as np\n",
    "import pandas as pd\n",
    "from sklearn.preprocessing import MultiLabelBinarizer\n",
    "from sklearn.model_selection import train_test_split\n",
    "import string\n",
    "import gensim\n",
    "from gensim.models import Word2Vec, KeyedVectors\n",
    "import keras\n",
    "from keras.layers.core import Reshape, Flatten\n",
    "from keras import regularizers\n",
    "from keras.preprocessing.text import Tokenizer\n",
    "from keras.preprocessing.sequence import pad_sequences\n",
    "from keras.models import Sequential\n",
    "from keras.layers import Input, Dense, Activation, Embedding, Flatten, GlobalMaxPool1D, Dropout, Conv1D, LSTM, MaxPooling1D, concatenate\n",
    "from keras.callbacks import ReduceLROnPlateau, EarlyStopping, ModelCheckpoint\n",
    "from keras.losses import binary_crossentropy\n",
    "from keras.optimizers import Adam\n",
    "from keras.models import Model\n",
    "from keras.initializers import RandomUniform, glorot_uniform\n",
    "from skmultilearn.problem_transform import BinaryRelevance, ClassifierChain\n",
    "from sklearn.svm import LinearSVC\n",
    "from xgboost import XGBClassifier\n",
    "from sklearn.metrics import classification_report, hamming_loss, f1_score\n",
    "import matplotlib.pyplot as plt\n",
    "\n",
    "import io\n",
    "import random\n",
    "import joblib\n",
    "\n",
    "!pip install -U -q PyDrive\n",
    "from pydrive.auth import GoogleAuth\n",
    "from pydrive.drive import GoogleDrive\n",
    "from google.colab import auth\n",
    "from oauth2client.client import GoogleCredentials\n",
    "\n",
    "%matplotlib inline"
   ]
  },
  {
   "cell_type": "code",
   "execution_count": null,
   "metadata": {
    "colab": {
     "base_uri": "https://localhost:8080/",
     "height": 74,
     "resources": {
      "http://localhost:8080/nbextensions/google.colab/files.js": {
       "data": "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",
       "headers": [
        [
         "content-type",
         "application/javascript"
        ]
       ],
       "ok": true,
       "status": 200,
       "status_text": ""
      }
     }
    },
    "colab_type": "code",
    "id": "jHNlrDjK7ByA",
    "outputId": "956b7627-e067-4cdf-d2bb-7f9059277279"
   },
   "outputs": [
    {
     "data": {
      "text/html": [
       "\n",
       "     <input type=\"file\" id=\"files-c0384b5a-9895-479c-adff-b7a673a2062d\" name=\"files[]\" multiple disabled />\n",
       "     <output id=\"result-c0384b5a-9895-479c-adff-b7a673a2062d\">\n",
       "      Upload widget is only available when the cell has been executed in the\n",
       "      current browser session. Please rerun this cell to enable.\n",
       "      </output>\n",
       "      <script src=\"/nbextensions/google.colab/files.js\"></script> "
      ],
      "text/plain": [
       "<IPython.core.display.HTML object>"
      ]
     },
     "metadata": {
      "tags": []
     },
     "output_type": "display_data"
    },
    {
     "name": "stdout",
     "output_type": "stream",
     "text": [
      "Saving priority_10k_labelled.csv to priority_10k_labelled.csv\n"
     ]
    }
   ],
   "source": [
    "from google.colab import files\n",
    "uploaded = files.upload()"
   ]
  },
  {
   "cell_type": "code",
   "execution_count": null,
   "metadata": {
    "colab": {
     "base_uri": "https://localhost:8080/",
     "height": 204
    },
    "colab_type": "code",
    "id": "y_8alJAt7qq8",
    "outputId": "fa6e3f31-f5b8-4741-d37e-59efb519f53e"
   },
   "outputs": [
    {
     "data": {
      "text/html": [
       "<div>\n",
       "<style scoped>\n",
       "    .dataframe tbody tr th:only-of-type {\n",
       "        vertical-align: middle;\n",
       "    }\n",
       "\n",
       "    .dataframe tbody tr th {\n",
       "        vertical-align: top;\n",
       "    }\n",
       "\n",
       "    .dataframe thead th {\n",
       "        text-align: right;\n",
       "    }\n",
       "</style>\n",
       "<table border=\"1\" class=\"dataframe\">\n",
       "  <thead>\n",
       "    <tr style=\"text-align: right;\">\n",
       "      <th></th>\n",
       "      <th>reviews</th>\n",
       "      <th>category_sentiment</th>\n",
       "      <th>category</th>\n",
       "      <th>sentiment</th>\n",
       "    </tr>\n",
       "  </thead>\n",
       "  <tbody>\n",
       "    <tr>\n",
       "      <th>0</th>\n",
       "      <td>Kotor berdebu. Saya tdk berhenti bersin ketika...</td>\n",
       "      <td>wifi_P1-neg</td>\n",
       "      <td>wifi_P1</td>\n",
       "      <td>neg</td>\n",
       "    </tr>\n",
       "    <tr>\n",
       "      <th>1</th>\n",
       "      <td>Kotor berdebu. Saya tdk berhenti bersin ketika...</td>\n",
       "      <td>kebersihan-neg</td>\n",
       "      <td>kebersihan</td>\n",
       "      <td>neg</td>\n",
       "    </tr>\n",
       "    <tr>\n",
       "      <th>2</th>\n",
       "      <td>kamar ada semutnya. kamar mandi bermasalah. bu...</td>\n",
       "      <td>kebersihan-neg</td>\n",
       "      <td>kebersihan</td>\n",
       "      <td>neg</td>\n",
       "    </tr>\n",
       "    <tr>\n",
       "      <th>3</th>\n",
       "      <td>Kamar mandi bau, airnya bau</td>\n",
       "      <td>bau_P1-neg</td>\n",
       "      <td>bau_P1</td>\n",
       "      <td>neg</td>\n",
       "    </tr>\n",
       "    <tr>\n",
       "      <th>4</th>\n",
       "      <td>tak sesuai espektasi, kamar sempit, pintu kama...</td>\n",
       "      <td>service-neg</td>\n",
       "      <td>service</td>\n",
       "      <td>neg</td>\n",
       "    </tr>\n",
       "  </tbody>\n",
       "</table>\n",
       "</div>"
      ],
      "text/plain": [
       "                                             reviews  ... sentiment\n",
       "0  Kotor berdebu. Saya tdk berhenti bersin ketika...  ...       neg\n",
       "1  Kotor berdebu. Saya tdk berhenti bersin ketika...  ...       neg\n",
       "2  kamar ada semutnya. kamar mandi bermasalah. bu...  ...       neg\n",
       "3                        Kamar mandi bau, airnya bau  ...       neg\n",
       "4  tak sesuai espektasi, kamar sempit, pintu kama...  ...       neg\n",
       "\n",
       "[5 rows x 4 columns]"
      ]
     },
     "execution_count": 6,
     "metadata": {
      "tags": []
     },
     "output_type": "execute_result"
    }
   ],
   "source": [
    "data = pd.read_csv('priority_10k_labelled.csv')\n",
    "data.head()"
   ]
  },
  {
   "cell_type": "code",
   "execution_count": null,
   "metadata": {
    "colab": {},
    "colab_type": "code",
    "id": "MaUoGoaG9RqS"
   },
   "outputs": [],
   "source": [
    "def get_all_label(x_train, y_train):\n",
    "    y_train_set = []\n",
    "    sent = x_train[0]\n",
    "    X_train_set = [sent]\n",
    "    labels = []\n",
    "    for i in range (len(x_train)):\n",
    "        if sent != x_train[i]:\n",
    "            if (len(labels)>0):\n",
    "                y_train_set.append(labels)\n",
    "            sent = x_train[i]\n",
    "            X_train_set.append(sent)\n",
    "            labels = []\n",
    "        labels.append(y_train[i])\n",
    "    return X_train_set, y_train_set\n",
    "\n",
    "def tokenize(msg):\n",
    "    clean = [char for char in msg if char not in string.punctuation]\n",
    "    clean = ''.join(clean)\n",
    "    return clean.lower().split()\n",
    "\n",
    "def find_maxlen(reviews):\n",
    "    longest = 0\n",
    "    strlong = \"test\"\n",
    "    for review in reviews:\n",
    "        if len(tokenize(review)) > longest:\n",
    "            longest = len(tokenize(review))\n",
    "            strlong = review\n",
    "    return longest\n",
    "\n",
    "def train_w2v(corpus, size, min_count):\n",
    "    docs = [tokenize(doc) for doc in corpus]\n",
    "    model = gensim.models.Word2Vec(docs,\n",
    "                                   size=size,\n",
    "                                   window=10,\n",
    "                                   min_count=min_count,\n",
    "                                   workers=10)\n",
    "    model.train(docs, total_examples=len(docs), epochs=10)\n",
    "    return model\n",
    "\n",
    "def tokenize_text(vocab_size, reviews,maxlen):\n",
    "    tokenizer = Tokenizer(num_words=vocab_size, lower=True, oov_token='<UNK>')\n",
    "    tokenizer.fit_on_texts(reviews)\n",
    "    sequences = tokenizer.texts_to_sequences(reviews)\n",
    "    x = pad_sequences(sequences, maxlen=maxlen)\n",
    "    return x, tokenizer\n",
    "\n",
    "def createEmbeddingMatrix(word_index, vocab_size, dim, word_vectors):\n",
    "    EMBEDDING_DIM=dim\n",
    "    vocabulary_size=min(len(word_index)+1,vocab_size)\n",
    "    embedding_matrix = np.zeros((vocabulary_size, EMBEDDING_DIM))\n",
    "    for word, i in word_index.items():\n",
    "        if i>=vocab_size:\n",
    "            continue\n",
    "        try:\n",
    "            embedding_vector = word_vectors[word]\n",
    "            embedding_matrix[i] = embedding_vector\n",
    "        except KeyError:\n",
    "            embedding_matrix[i]=np.random.normal(0,np.sqrt(0.25),EMBEDDING_DIM)\n",
    "    return embedding_matrix\n",
    "  \n",
    "def create_conv_layers(num_filters, filter_sizes, embedding, conv_activation):\n",
    "  conv_layers = []\n",
    "  for s in filter_sizes:\n",
    "    conv = Conv1D(num_filters, s, activation=conv_activation, kernel_initializer=glorot_uniform(seed=random.seed(7)), kernel_regularizer=regularizers.l2(0.01))(embedding)\n",
    "    conv_layers.append(conv)\n",
    "  return conv_layers\n",
    "\n",
    "def max_pools(maxlen, filter_sizes, conv_layers):\n",
    "  pools = []\n",
    "  for i in range(len(conv_layers)):\n",
    "    pool = MaxPooling1D(maxlen - filter_sizes[i] + 1, strides=1)(conv_layers[i])\n",
    "    pools.append(pool)\n",
    "  return pools\n",
    "\n",
    "def createCNNModel(filter_sizes, num_filters, embedding_matrix, conv_activation, dense_units, embedding_dim, vocabulary_size, maxlen, num_classes):\n",
    "    filter_sizes = filter_sizes\n",
    "    num_filters = num_filters\n",
    "    drop = 0.5\n",
    "    \n",
    "    inputs = Input(shape=(maxlen,))\n",
    "    embedding_layer = Embedding(vocabulary_size,\n",
    "                            embedding_dim,\n",
    "                            weights=[embedding_matrix],\n",
    "                            trainable=True)\n",
    "    embedding = embedding_layer(inputs)\n",
    "    \n",
    "    convs = create_conv_layers(num_filters, filter_sizes, embedding, conv_activation)\n",
    "    pools = max_pools(maxlen, filter_sizes, convs)\n",
    "    merged_tensor = concatenate(pools, axis=1)\n",
    "\n",
    "    flatten = Flatten()(merged_tensor)\n",
    "    \n",
    "    dense1 = Dense(dense_units, kernel_initializer=RandomUniform(seed=random.seed(7)))(flatten)\n",
    "    dropout = Dropout(drop)(dense1)\n",
    "    \n",
    "    output = Dense(units=num_classes, activation='sigmoid',kernel_regularizer=regularizers.l2(0.01))(dropout)\n",
    "    \n",
    "    # this creates a model that includes\n",
    "    model = Model(inputs, output)\n",
    "    #print(model.summary())\n",
    "    return model\n",
    "\n",
    "def createCNNLSTMModel(filter_sizes, num_filters, embedding_matrix, conv_activation, dense_units, embedding_dim, vocabulary_size, maxlen, num_classes):\n",
    "    filter_sizes = filter_sizes\n",
    "    num_filters = num_filters\n",
    "    drop = 0.5\n",
    "    \n",
    "    inputs = Input(shape=(maxlen,))\n",
    "    embedding_layer = Embedding(vocabulary_size,\n",
    "                            embedding_dim,\n",
    "                            weights=[embedding_matrix],\n",
    "                            trainable=True)\n",
    "    embedding = embedding_layer(inputs)\n",
    "    \n",
    "    convs = create_conv_layers(num_filters, filter_sizes, embedding, conv_activation)\n",
    "    pools = max_pools(maxlen, filter_sizes, convs)\n",
    "    merged_tensor = concatenate(pools, axis=1)\n",
    "    \n",
    "    dense1 = Dense(dense_units, kernel_initializer=RandomUniform(seed=random.seed(7)))(merged_tensor)\n",
    "    dropout = Dropout(drop)(dense1)\n",
    "    lstm_1 = LSTM(64)(dropout)\n",
    "    output = Dense(units=num_classes, activation='softmax',kernel_regularizer=regularizers.l2(0.01))(lstm_1)\n",
    "    \n",
    "    # this creates a model that includes\n",
    "    model = Model(inputs, output)\n",
    "    #print(model.summary())\n",
    "    return model\n",
    "   \n",
    "\n",
    "def fit_cnn(x_train, y_train, x_val, y_val, filters, window_sizes, embedding_matrix, conv_activation, dense_units, epochs, filepath, earlystop):\n",
    "  model = None\n",
    "  model = createCNNModel(window_sizes, filters, embedding_matrix, conv_activation, dense_units, 400, 5000, 350, 10)\n",
    "  adam = Adam(lr=1e-3)\n",
    "  model.compile(loss='binary_crossentropy', metrics=['categorical_accuracy'],\n",
    "              optimizer=adam)\n",
    "  if earlystop:\n",
    "    callbacks = [EarlyStopping(patience=4),\n",
    "            ModelCheckpoint(filepath=filepath, save_best_only=True)]\n",
    "  else:\n",
    "    callbacks = [ModelCheckpoint(filepath=filepath, save_best_only=True)]\n",
    "  \n",
    "  t0 = time()  \n",
    "  results = model.fit(x_train, y_train, batch_size=32, epochs=epochs, callbacks=callbacks, verbose=0, validation_data = (x_val, y_val))\n",
    "  training_time = time()-t0\n",
    "  \n",
    "  cnn_model = keras.models.load_model(filepath)\n",
    "  metrics = cnn_model.evaluate(x_val, y_val)\n",
    "  \n",
    "  y_pred = cnn_model.predict(x_val)\n",
    "  y_pred_bool = np.array([[0 if x <= 0.5 else 1 for x in arr] for arr in y_pred])\n",
    "  f1_macro = f1_score(y_val, y_pred_bool, average='macro')\n",
    "  f1_micro = f1_score(y_val, y_pred_bool, average='micro')  \n",
    "  hamloss = hamming_loss(y_val,y_pred_bool)\n",
    "  \n",
    "  return results, metrics, f1_macro, f1_micro, hamloss, training_time\n",
    "\n",
    "def fit_and_evaluate_cnn_lstm(x_train, y_train, x_val, y_val, filters, window_sizes, embedding_matrix, conv_activation, dense_units, epochs, filepath, earlystop):\n",
    "  model = None\n",
    "  model = createCNNLSTMModel(window_sizes, filters, embedding_matrix, conv_activation, dense_units, 400, 5000, 350, 10)\n",
    "  adam = Adam(lr=1e-3)\n",
    "  model.compile(loss='binary_crossentropy', metrics=['categorical_accuracy'],\n",
    "              optimizer=adam)\n",
    "  if earlystop:\n",
    "    callbacks = [EarlyStopping(patience=4),\n",
    "            ModelCheckpoint(filepath=filepath, save_best_only=True)]\n",
    "  else:\n",
    "    callbacks = [ModelCheckpoint(filepath=filepath, save_best_only=True)]\n",
    "  \n",
    "  t0 = time()  \n",
    "  results = model.fit(x_train, y_train, batch_size=32, epochs=epochs, callbacks=callbacks, verbose=0, validation_data = (x_val, y_val))\n",
    "  training_time = time()-t0\n",
    "  \n",
    "  model = keras.models.load_model(filepath)\n",
    "  metrics = model.evaluate(x_val, y_val)\n",
    "  \n",
    "  y_pred = model.predict(x_val)\n",
    "  y_pred_bool = np.array([[0 if x <= 0.1 else 1 for x in arr] for arr in y_pred])\n",
    "  f1_macro = f1_score(y_val, y_pred_bool, average='macro')\n",
    "  f1_micro = f1_score(y_val, y_pred_bool, average='micro')  \n",
    "  hamloss = hamming_loss(y_val,y_pred_bool)\n",
    "  \n",
    "  return results, metrics, f1_macro, f1_micro, hamloss, training_time\n",
    "\n",
    "def get_output_cnn(model, x_train, x_test):\n",
    "    total_layers = len(model.layers)\n",
    "    fl_index = total_layers-1\n",
    "    feature_layer_model = Model(\n",
    "                     inputs=model.input,\n",
    "                     outputs=model.get_layer(index=fl_index).output)\n",
    "    x_train_xg = feature_layer_model.predict(x_train)\n",
    "    x_test_xg = feature_layer_model.predict(x_test)\n",
    "    return x_train_xg, x_test_xg"
   ]
  },
  {
   "cell_type": "code",
   "execution_count": null,
   "metadata": {
    "colab": {
     "base_uri": "https://localhost:8080/",
     "height": 187
    },
    "colab_type": "code",
    "id": "6BOT5MhAiH1h",
    "outputId": "28932d42-a9b5-44ea-a051-7e8ef781b7a4"
   },
   "outputs": [
    {
     "name": "stdout",
     "output_type": "stream",
     "text": [
      "<class 'pandas.core.frame.DataFrame'>\n",
      "RangeIndex: 18476 entries, 0 to 18475\n",
      "Data columns (total 5 columns):\n",
      "index                 18476 non-null int64\n",
      "reviews               18476 non-null object\n",
      "category_sentiment    18476 non-null object\n",
      "category              18476 non-null object\n",
      "sentiment             18476 non-null object\n",
      "dtypes: int64(1), object(4)\n",
      "memory usage: 721.8+ KB\n"
     ]
    }
   ],
   "source": [
    "data = data[data.sentiment != 'ignored']\n",
    "data.reset_index(inplace=True)\n",
    "data.info()"
   ]
  },
  {
   "cell_type": "code",
   "execution_count": null,
   "metadata": {
    "colab": {
     "base_uri": "https://localhost:8080/",
     "height": 204
    },
    "colab_type": "code",
    "id": "y53EXV69iWO_",
    "outputId": "f38ea508-ec5d-4ae2-eae5-927f51689f4b"
   },
   "outputs": [
    {
     "data": {
      "text/plain": [
       "kebersihan         4006\n",
       "linen_P1           2739\n",
       "service            2684\n",
       "ac_P1              2057\n",
       "air_panas_P1       1459\n",
       "wifi_P1            1421\n",
       "bau_P1             1413\n",
       "general            1083\n",
       "tv_P1               914\n",
       "sunrise_meal_P1     700\n",
       "Name: category, dtype: int64"
      ]
     },
     "execution_count": 9,
     "metadata": {
      "tags": []
     },
     "output_type": "execute_result"
    }
   ],
   "source": [
    "data.category.value_counts()"
   ]
  },
  {
   "cell_type": "code",
   "execution_count": null,
   "metadata": {
    "colab": {},
    "colab_type": "code",
    "id": "glQOLxFU9Xa-"
   },
   "outputs": [],
   "source": [
    "X_train, y_train = get_all_label(data['reviews'], data['category'])"
   ]
  },
  {
   "cell_type": "code",
   "execution_count": null,
   "metadata": {
    "colab": {},
    "colab_type": "code",
    "id": "OY3p8548imVI"
   },
   "outputs": [],
   "source": [
    "data_train = list(zip(X_train, y_train))\n",
    "random.Random(7).shuffle(data_train)"
   ]
  },
  {
   "cell_type": "code",
   "execution_count": null,
   "metadata": {
    "colab": {
     "base_uri": "https://localhost:8080/",
     "height": 204
    },
    "colab_type": "code",
    "id": "XxBbwEK89f8D",
    "outputId": "a38b8ab3-682a-45fc-8e38-ab72a0ec1d2a"
   },
   "outputs": [
    {
     "data": {
      "text/html": [
       "<div>\n",
       "<style scoped>\n",
       "    .dataframe tbody tr th:only-of-type {\n",
       "        vertical-align: middle;\n",
       "    }\n",
       "\n",
       "    .dataframe tbody tr th {\n",
       "        vertical-align: top;\n",
       "    }\n",
       "\n",
       "    .dataframe thead th {\n",
       "        text-align: right;\n",
       "    }\n",
       "</style>\n",
       "<table border=\"1\" class=\"dataframe\">\n",
       "  <thead>\n",
       "    <tr style=\"text-align: right;\">\n",
       "      <th></th>\n",
       "      <th>review</th>\n",
       "      <th>labels</th>\n",
       "    </tr>\n",
       "  </thead>\n",
       "  <tbody>\n",
       "    <tr>\n",
       "      <th>0</th>\n",
       "      <td>Ada beberapa fasilitas yg tidak diberikan yait...</td>\n",
       "      <td>[wifi_P1, sunrise_meal_P1]</td>\n",
       "    </tr>\n",
       "    <tr>\n",
       "      <th>1</th>\n",
       "      <td>Air panas nya tidak ada</td>\n",
       "      <td>[air_panas_P1]</td>\n",
       "    </tr>\n",
       "    <tr>\n",
       "      <th>2</th>\n",
       "      <td>Kamarnya sangat kotor dan bau</td>\n",
       "      <td>[kebersihan, bau_P1]</td>\n",
       "    </tr>\n",
       "    <tr>\n",
       "      <th>3</th>\n",
       "      <td>lama pelayanannya. ac panas banget ga nyenyak ...</td>\n",
       "      <td>[service, ac_P1]</td>\n",
       "    </tr>\n",
       "    <tr>\n",
       "      <th>4</th>\n",
       "      <td>Beda banget sama yang difoto, kotor.</td>\n",
       "      <td>[kebersihan]</td>\n",
       "    </tr>\n",
       "  </tbody>\n",
       "</table>\n",
       "</div>"
      ],
      "text/plain": [
       "                                              review                      labels\n",
       "0  Ada beberapa fasilitas yg tidak diberikan yait...  [wifi_P1, sunrise_meal_P1]\n",
       "1                            Air panas nya tidak ada              [air_panas_P1]\n",
       "2                      Kamarnya sangat kotor dan bau        [kebersihan, bau_P1]\n",
       "3  lama pelayanannya. ac panas banget ga nyenyak ...            [service, ac_P1]\n",
       "4               Beda banget sama yang difoto, kotor.                [kebersihan]"
      ]
     },
     "execution_count": 12,
     "metadata": {
      "tags": []
     },
     "output_type": "execute_result"
    }
   ],
   "source": [
    "df_train = pd.DataFrame(data_train, columns=['review', 'labels'])\n",
    "df_train.head()"
   ]
  },
  {
   "cell_type": "code",
   "execution_count": null,
   "metadata": {
    "colab": {
     "base_uri": "https://localhost:8080/",
     "height": 34
    },
    "colab_type": "code",
    "id": "eNYmHblOgQha",
    "outputId": "96e2e570-bd8f-4924-bf0d-bae2b71ad095"
   },
   "outputs": [
    {
     "data": {
      "text/plain": [
       "9450"
      ]
     },
     "execution_count": 14,
     "metadata": {
      "tags": []
     },
     "output_type": "execute_result"
    }
   ],
   "source": [
    "len(data_train)"
   ]
  },
  {
   "cell_type": "code",
   "execution_count": null,
   "metadata": {
    "colab": {
     "base_uri": "https://localhost:8080/",
     "height": 316
    },
    "colab_type": "code",
    "id": "Y3V3eAZrZwpI",
    "outputId": "3de06a05-e73d-4abb-8566-d77fd26a2658"
   },
   "outputs": [
    {
     "ename": "NameError",
     "evalue": "ignored",
     "output_type": "error",
     "traceback": [
      "\u001b[0;31m---------------------------------------------------------------------------\u001b[0m",
      "\u001b[0;31mNameError\u001b[0m                                 Traceback (most recent call last)",
      "\u001b[0;32m<ipython-input-15-fe9e8c2a1f2b>\u001b[0m in \u001b[0;36m<module>\u001b[0;34m()\u001b[0m\n\u001b[1;32m      1\u001b[0m \u001b[0mcardinality\u001b[0m \u001b[0;34m=\u001b[0m \u001b[0msum\u001b[0m\u001b[0;34m(\u001b[0m\u001b[0;34m[\u001b[0m\u001b[0mlen\u001b[0m\u001b[0;34m(\u001b[0m\u001b[0mi\u001b[0m\u001b[0;34m)\u001b[0m \u001b[0;32mfor\u001b[0m \u001b[0mi\u001b[0m \u001b[0;32min\u001b[0m \u001b[0mdf_train\u001b[0m\u001b[0;34m[\u001b[0m\u001b[0;34m'labels'\u001b[0m\u001b[0;34m]\u001b[0m\u001b[0;34m]\u001b[0m\u001b[0;34m)\u001b[0m\u001b[0;34m/\u001b[0m\u001b[0mlen\u001b[0m\u001b[0;34m(\u001b[0m\u001b[0mdf_train\u001b[0m\u001b[0;34m[\u001b[0m\u001b[0;34m'labels'\u001b[0m\u001b[0;34m]\u001b[0m\u001b[0;34m)\u001b[0m\u001b[0;34m\u001b[0m\u001b[0;34m\u001b[0m\u001b[0m\n\u001b[0;32m----> 2\u001b[0;31m \u001b[0mdensity\u001b[0m \u001b[0;34m=\u001b[0m \u001b[0msum\u001b[0m\u001b[0;34m(\u001b[0m\u001b[0;34m[\u001b[0m\u001b[0mlen\u001b[0m\u001b[0;34m(\u001b[0m\u001b[0mi\u001b[0m\u001b[0;34m)\u001b[0m\u001b[0;34m/\u001b[0m\u001b[0mlen\u001b[0m\u001b[0;34m(\u001b[0m\u001b[0mmlb\u001b[0m\u001b[0;34m.\u001b[0m\u001b[0mclasses_\u001b[0m\u001b[0;34m)\u001b[0m \u001b[0;32mfor\u001b[0m \u001b[0mi\u001b[0m \u001b[0;32min\u001b[0m \u001b[0mdf_train\u001b[0m\u001b[0;34m[\u001b[0m\u001b[0;34m'labels'\u001b[0m\u001b[0;34m]\u001b[0m\u001b[0;34m]\u001b[0m\u001b[0;34m)\u001b[0m\u001b[0;34m/\u001b[0m\u001b[0mlen\u001b[0m\u001b[0;34m(\u001b[0m\u001b[0mdf_train\u001b[0m\u001b[0;34m[\u001b[0m\u001b[0;34m'labels'\u001b[0m\u001b[0;34m]\u001b[0m\u001b[0;34m)\u001b[0m\u001b[0;34m\u001b[0m\u001b[0;34m\u001b[0m\u001b[0m\n\u001b[0m\u001b[1;32m      3\u001b[0m \u001b[0mprint\u001b[0m\u001b[0;34m(\u001b[0m\u001b[0;34m\"Label Cardinality: \"\u001b[0m\u001b[0;34m,\u001b[0m \u001b[0mcardinality\u001b[0m\u001b[0;34m)\u001b[0m\u001b[0;34m\u001b[0m\u001b[0;34m\u001b[0m\u001b[0m\n\u001b[1;32m      4\u001b[0m \u001b[0mprint\u001b[0m\u001b[0;34m(\u001b[0m\u001b[0;34m\"Label Density: \"\u001b[0m\u001b[0;34m,\u001b[0m \u001b[0mdensity\u001b[0m\u001b[0;34m)\u001b[0m\u001b[0;34m\u001b[0m\u001b[0;34m\u001b[0m\u001b[0m\n",
      "\u001b[0;32m<ipython-input-15-fe9e8c2a1f2b>\u001b[0m in \u001b[0;36m<listcomp>\u001b[0;34m(.0)\u001b[0m\n\u001b[1;32m      1\u001b[0m \u001b[0mcardinality\u001b[0m \u001b[0;34m=\u001b[0m \u001b[0msum\u001b[0m\u001b[0;34m(\u001b[0m\u001b[0;34m[\u001b[0m\u001b[0mlen\u001b[0m\u001b[0;34m(\u001b[0m\u001b[0mi\u001b[0m\u001b[0;34m)\u001b[0m \u001b[0;32mfor\u001b[0m \u001b[0mi\u001b[0m \u001b[0;32min\u001b[0m \u001b[0mdf_train\u001b[0m\u001b[0;34m[\u001b[0m\u001b[0;34m'labels'\u001b[0m\u001b[0;34m]\u001b[0m\u001b[0;34m]\u001b[0m\u001b[0;34m)\u001b[0m\u001b[0;34m/\u001b[0m\u001b[0mlen\u001b[0m\u001b[0;34m(\u001b[0m\u001b[0mdf_train\u001b[0m\u001b[0;34m[\u001b[0m\u001b[0;34m'labels'\u001b[0m\u001b[0;34m]\u001b[0m\u001b[0;34m)\u001b[0m\u001b[0;34m\u001b[0m\u001b[0;34m\u001b[0m\u001b[0m\n\u001b[0;32m----> 2\u001b[0;31m \u001b[0mdensity\u001b[0m \u001b[0;34m=\u001b[0m \u001b[0msum\u001b[0m\u001b[0;34m(\u001b[0m\u001b[0;34m[\u001b[0m\u001b[0mlen\u001b[0m\u001b[0;34m(\u001b[0m\u001b[0mi\u001b[0m\u001b[0;34m)\u001b[0m\u001b[0;34m/\u001b[0m\u001b[0mlen\u001b[0m\u001b[0;34m(\u001b[0m\u001b[0mmlb\u001b[0m\u001b[0;34m.\u001b[0m\u001b[0mclasses_\u001b[0m\u001b[0;34m)\u001b[0m \u001b[0;32mfor\u001b[0m \u001b[0mi\u001b[0m \u001b[0;32min\u001b[0m \u001b[0mdf_train\u001b[0m\u001b[0;34m[\u001b[0m\u001b[0;34m'labels'\u001b[0m\u001b[0;34m]\u001b[0m\u001b[0;34m]\u001b[0m\u001b[0;34m)\u001b[0m\u001b[0;34m/\u001b[0m\u001b[0mlen\u001b[0m\u001b[0;34m(\u001b[0m\u001b[0mdf_train\u001b[0m\u001b[0;34m[\u001b[0m\u001b[0;34m'labels'\u001b[0m\u001b[0;34m]\u001b[0m\u001b[0;34m)\u001b[0m\u001b[0;34m\u001b[0m\u001b[0;34m\u001b[0m\u001b[0m\n\u001b[0m\u001b[1;32m      3\u001b[0m \u001b[0mprint\u001b[0m\u001b[0;34m(\u001b[0m\u001b[0;34m\"Label Cardinality: \"\u001b[0m\u001b[0;34m,\u001b[0m \u001b[0mcardinality\u001b[0m\u001b[0;34m)\u001b[0m\u001b[0;34m\u001b[0m\u001b[0;34m\u001b[0m\u001b[0m\n\u001b[1;32m      4\u001b[0m \u001b[0mprint\u001b[0m\u001b[0;34m(\u001b[0m\u001b[0;34m\"Label Density: \"\u001b[0m\u001b[0;34m,\u001b[0m \u001b[0mdensity\u001b[0m\u001b[0;34m)\u001b[0m\u001b[0;34m\u001b[0m\u001b[0;34m\u001b[0m\u001b[0m\n",
      "\u001b[0;31mNameError\u001b[0m: name 'mlb' is not defined"
     ]
    }
   ],
   "source": [
    "cardinality = sum([len(i) for i in df_train['labels']])/len(df_train['labels'])\n",
    "density = sum([len(i)/len(mlb.classes_) for i in df_train['labels']])/len(df_train['labels'])\n",
    "print(\"Label Cardinality: \", cardinality)\n",
    "print(\"Label Density: \", density)"
   ]
  },
  {
   "cell_type": "code",
   "execution_count": null,
   "metadata": {
    "colab": {
     "base_uri": "https://localhost:8080/",
     "height": 34
    },
    "colab_type": "code",
    "id": "dqW4ODQNieuk",
    "outputId": "3ba9ee93-2bca-4968-cc0d-ed5bfcc9ec97"
   },
   "outputs": [
    {
     "data": {
      "text/plain": [
       "320"
      ]
     },
     "execution_count": 56,
     "metadata": {
      "tags": []
     },
     "output_type": "execute_result"
    }
   ],
   "source": [
    "find_maxlen(df_train.review)"
   ]
  },
  {
   "cell_type": "code",
   "execution_count": null,
   "metadata": {
    "colab": {},
    "colab_type": "code",
    "id": "LvvNVb2V9ndi"
   },
   "outputs": [],
   "source": [
    "def load_w2v(link):\n",
    "  fluff, id = link.split('=')\n",
    "  downloaded = drive.CreateFile({'id':id}) \n",
    "  downloaded.GetContentFile('w2v_model.bin')\n",
    "  word_vectors = KeyedVectors.load_word2vec_format('w2v_model.bin', binary=True)\n",
    "  return word_vectors"
   ]
  },
  {
   "cell_type": "code",
   "execution_count": null,
   "metadata": {
    "colab": {
     "base_uri": "https://localhost:8080/",
     "height": 564
    },
    "colab_type": "code",
    "id": "H-Ywg0Qi9-Do",
    "outputId": "a1c597b3-fa34-4b03-e8ae-05a5d71e39a4"
   },
   "outputs": [
    {
     "name": "stderr",
     "output_type": "stream",
     "text": [
      "WARNING: Logging before flag parsing goes to stderr.\n",
      "W0809 09:56:57.368371 139964296607616 __init__.py:44] file_cache is unavailable when using oauth2client >= 4.0.0 or google-auth\n",
      "Traceback (most recent call last):\n",
      "  File \"/usr/local/lib/python3.6/dist-packages/googleapiclient/discovery_cache/__init__.py\", line 36, in autodetect\n",
      "    from google.appengine.api import memcache\n",
      "ModuleNotFoundError: No module named 'google.appengine'\n",
      "\n",
      "During handling of the above exception, another exception occurred:\n",
      "\n",
      "Traceback (most recent call last):\n",
      "  File \"/usr/local/lib/python3.6/dist-packages/googleapiclient/discovery_cache/file_cache.py\", line 33, in <module>\n",
      "    from oauth2client.contrib.locked_file import LockedFile\n",
      "ModuleNotFoundError: No module named 'oauth2client.contrib.locked_file'\n",
      "\n",
      "During handling of the above exception, another exception occurred:\n",
      "\n",
      "Traceback (most recent call last):\n",
      "  File \"/usr/local/lib/python3.6/dist-packages/googleapiclient/discovery_cache/file_cache.py\", line 37, in <module>\n",
      "    from oauth2client.locked_file import LockedFile\n",
      "ModuleNotFoundError: No module named 'oauth2client.locked_file'\n",
      "\n",
      "During handling of the above exception, another exception occurred:\n",
      "\n",
      "Traceback (most recent call last):\n",
      "  File \"/usr/local/lib/python3.6/dist-packages/googleapiclient/discovery_cache/__init__.py\", line 41, in autodetect\n",
      "    from . import file_cache\n",
      "  File \"/usr/local/lib/python3.6/dist-packages/googleapiclient/discovery_cache/file_cache.py\", line 41, in <module>\n",
      "    'file_cache is unavailable when using oauth2client >= 4.0.0 or google-auth')\n",
      "ImportError: file_cache is unavailable when using oauth2client >= 4.0.0 or google-auth\n",
      "/usr/local/lib/python3.6/dist-packages/smart_open/smart_open_lib.py:398: UserWarning: This function is deprecated, use smart_open.open instead. See the migration notes for details: https://github.com/RaRe-Technologies/smart_open/blob/master/README.rst#migrating-to-the-new-open-function\n",
      "  'See the migration notes for details: %s' % _MIGRATION_NOTES_URL\n"
     ]
    }
   ],
   "source": [
    "word_vectors = load_w2v('https://drive.google.com/open?id=1lNfCSpRAW601ZLWSWF_P9y8C89xpVkpi')"
   ]
  },
  {
   "cell_type": "code",
   "execution_count": null,
   "metadata": {
    "colab": {},
    "colab_type": "code",
    "id": "WiobQi-KtSSo"
   },
   "outputs": [],
   "source": [
    "import tensorflow as tf\n",
    "inputs = Input(shape=(350,))\n",
    "embedding_layer = Embedding(5000,\n",
    "                            400,\n",
    "                            weights=[embedding_matrix])\n",
    "embedding = embedding_layer(inputs)\n",
    "model = Model(inputs, embedding)\n",
    "emb = model.predict(x)"
   ]
  },
  {
   "cell_type": "code",
   "execution_count": null,
   "metadata": {
    "colab": {
     "base_uri": "https://localhost:8080/",
     "height": 34
    },
    "colab_type": "code",
    "id": "p2COq_po0mx-",
    "outputId": "9ed6c3b9-b890-403b-95c7-30f2cb858c10"
   },
   "outputs": [
    {
     "data": {
      "text/plain": [
       "(4, 350, 400)"
      ]
     },
     "execution_count": 30,
     "metadata": {
      "tags": []
     },
     "output_type": "execute_result"
    }
   ],
   "source": [
    "emb.shape"
   ]
  },
  {
   "cell_type": "code",
   "execution_count": null,
   "metadata": {
    "colab": {},
    "colab_type": "code",
    "id": "BShfcYVMVD8Z"
   },
   "outputs": [],
   "source": [
    "x_train, x_test, y_train, y_test = train_test_split(df_train.review, df_train['labels'], test_size=0.2, random_state=1)"
   ]
  },
  {
   "cell_type": "code",
   "execution_count": null,
   "metadata": {
    "colab": {},
    "colab_type": "code",
    "id": "JLG84IuQRfiW"
   },
   "outputs": [],
   "source": [
    "x_train = df_train.review\n",
    "y_train = df_train['labels']"
   ]
  },
  {
   "cell_type": "code",
   "execution_count": null,
   "metadata": {
    "colab": {
     "base_uri": "https://localhost:8080/",
     "height": 204
    },
    "colab_type": "code",
    "id": "DeoHmrAsWA0K",
    "outputId": "08342c14-6e5a-4c67-8843-575e12d1b1ef"
   },
   "outputs": [
    {
     "data": {
      "text/html": [
       "<div>\n",
       "<style scoped>\n",
       "    .dataframe tbody tr th:only-of-type {\n",
       "        vertical-align: middle;\n",
       "    }\n",
       "\n",
       "    .dataframe tbody tr th {\n",
       "        vertical-align: top;\n",
       "    }\n",
       "\n",
       "    .dataframe thead th {\n",
       "        text-align: right;\n",
       "    }\n",
       "</style>\n",
       "<table border=\"1\" class=\"dataframe\">\n",
       "  <thead>\n",
       "    <tr style=\"text-align: right;\">\n",
       "      <th></th>\n",
       "      <th>review</th>\n",
       "      <th>labels</th>\n",
       "    </tr>\n",
       "  </thead>\n",
       "  <tbody>\n",
       "    <tr>\n",
       "      <th>0</th>\n",
       "      <td>Ada beberapa fasilitas yg tidak diberikan yait...</td>\n",
       "      <td>[wifi_P1, sunrise_meal_P1]</td>\n",
       "    </tr>\n",
       "    <tr>\n",
       "      <th>1</th>\n",
       "      <td>Air panas nya tidak ada</td>\n",
       "      <td>[air_panas_P1]</td>\n",
       "    </tr>\n",
       "    <tr>\n",
       "      <th>2</th>\n",
       "      <td>Kamarnya sangat kotor dan bau</td>\n",
       "      <td>[kebersihan, bau_P1]</td>\n",
       "    </tr>\n",
       "    <tr>\n",
       "      <th>3</th>\n",
       "      <td>lama pelayanannya. ac panas banget ga nyenyak ...</td>\n",
       "      <td>[service, ac_P1]</td>\n",
       "    </tr>\n",
       "    <tr>\n",
       "      <th>4</th>\n",
       "      <td>Beda banget sama yang difoto, kotor.</td>\n",
       "      <td>[kebersihan]</td>\n",
       "    </tr>\n",
       "  </tbody>\n",
       "</table>\n",
       "</div>"
      ],
      "text/plain": [
       "                                              review                      labels\n",
       "0  Ada beberapa fasilitas yg tidak diberikan yait...  [wifi_P1, sunrise_meal_P1]\n",
       "1                            Air panas nya tidak ada              [air_panas_P1]\n",
       "2                      Kamarnya sangat kotor dan bau        [kebersihan, bau_P1]\n",
       "3  lama pelayanannya. ac panas banget ga nyenyak ...            [service, ac_P1]\n",
       "4               Beda banget sama yang difoto, kotor.                [kebersihan]"
      ]
     },
     "execution_count": 19,
     "metadata": {
      "tags": []
     },
     "output_type": "execute_result"
    }
   ],
   "source": [
    "train = list(zip(x_train, list(y_train)))\n",
    "df_train_raw = pd.DataFrame(train, columns=['review', 'labels'])\n",
    "df_train_raw.head()"
   ]
  },
  {
   "cell_type": "code",
   "execution_count": null,
   "metadata": {
    "colab": {},
    "colab_type": "code",
    "id": "b9HunP6dWH4X"
   },
   "outputs": [],
   "source": [
    "path = 'train_raw.csv'\n",
    "df_train_raw.to_csv(path)\n",
    "file = drive.CreateFile({'title' : path})\n",
    "file.SetContentFile(path)\n",
    "file.Upload()"
   ]
  },
  {
   "cell_type": "code",
   "execution_count": null,
   "metadata": {
    "colab": {
     "base_uri": "https://localhost:8080/",
     "height": 204
    },
    "colab_type": "code",
    "id": "_TCcg10CUsbb",
    "outputId": "f0032e4f-333c-44f3-b1c9-19c364d8df8b"
   },
   "outputs": [
    {
     "data": {
      "text/html": [
       "<div>\n",
       "<style scoped>\n",
       "    .dataframe tbody tr th:only-of-type {\n",
       "        vertical-align: middle;\n",
       "    }\n",
       "\n",
       "    .dataframe tbody tr th {\n",
       "        vertical-align: top;\n",
       "    }\n",
       "\n",
       "    .dataframe thead th {\n",
       "        text-align: right;\n",
       "    }\n",
       "</style>\n",
       "<table border=\"1\" class=\"dataframe\">\n",
       "  <thead>\n",
       "    <tr style=\"text-align: right;\">\n",
       "      <th></th>\n",
       "      <th>review</th>\n",
       "      <th>labels</th>\n",
       "    </tr>\n",
       "  </thead>\n",
       "  <tbody>\n",
       "    <tr>\n",
       "      <th>0</th>\n",
       "      <td>kamar yg didapat tidak sesuai yg di foto &amp; san...</td>\n",
       "      <td>[bau_P1]</td>\n",
       "    </tr>\n",
       "    <tr>\n",
       "      <th>1</th>\n",
       "      <td>WiFi gak Hidup</td>\n",
       "      <td>[wifi_P1]</td>\n",
       "    </tr>\n",
       "    <tr>\n",
       "      <th>2</th>\n",
       "      <td>kamar terlalu luas, sayang cuma bisa untuk 2 o...</td>\n",
       "      <td>[kebersihan, linen_P1, wifi_P1, sunrise_meal_P1]</td>\n",
       "    </tr>\n",
       "    <tr>\n",
       "      <th>3</th>\n",
       "      <td>Kamarnya bagus pelayanannya baik cuma wifi yg ...</td>\n",
       "      <td>[service, wifi_P1]</td>\n",
       "    </tr>\n",
       "    <tr>\n",
       "      <th>4</th>\n",
       "      <td>Kamarx sempit.... Handukx terlambat di berikan...</td>\n",
       "      <td>[linen_P1]</td>\n",
       "    </tr>\n",
       "  </tbody>\n",
       "</table>\n",
       "</div>"
      ],
      "text/plain": [
       "                                              review                                            labels\n",
       "0  kamar yg didapat tidak sesuai yg di foto & san...                                          [bau_P1]\n",
       "1                                    WiFi gak Hidup                                          [wifi_P1]\n",
       "2  kamar terlalu luas, sayang cuma bisa untuk 2 o...  [kebersihan, linen_P1, wifi_P1, sunrise_meal_P1]\n",
       "3  Kamarnya bagus pelayanannya baik cuma wifi yg ...                                [service, wifi_P1]\n",
       "4  Kamarx sempit.... Handukx terlambat di berikan...                                        [linen_P1]"
      ]
     },
     "execution_count": 21,
     "metadata": {
      "tags": []
     },
     "output_type": "execute_result"
    }
   ],
   "source": [
    "test = list(zip(x_test, y_test))\n",
    "df_test_raw = pd.DataFrame(test, columns=['review', 'labels'])\n",
    "df_test_raw.head()"
   ]
  },
  {
   "cell_type": "code",
   "execution_count": null,
   "metadata": {
    "colab": {},
    "colab_type": "code",
    "id": "Jn2B0icQVtOt"
   },
   "outputs": [],
   "source": [
    "path = 'test_raw.csv'\n",
    "df_test_raw.to_csv(path)\n",
    "file = drive.CreateFile({'title' : path})\n",
    "file.SetContentFile(path)\n",
    "file.Upload()"
   ]
  },
  {
   "cell_type": "code",
   "execution_count": null,
   "metadata": {
    "colab": {
     "base_uri": "https://localhost:8080/",
     "height": 68
    },
    "colab_type": "code",
    "id": "thYNJA-2f_A9",
    "outputId": "a0a0244e-c066-43f5-ed43-7a41a45fcb19"
   },
   "outputs": [
    {
     "data": {
      "text/plain": [
       "array(['ac_P1', 'air_panas_P1', 'bau_P1', 'general', 'kebersihan',\n",
       "       'linen_P1', 'service', 'sunrise_meal_P1', 'tv_P1', 'wifi_P1'],\n",
       "      dtype=object)"
      ]
     },
     "execution_count": 22,
     "metadata": {
      "tags": []
     },
     "output_type": "execute_result"
    }
   ],
   "source": [
    "mlb = MultiLabelBinarizer()\n",
    "y = df_train['labels']\n",
    "y = mlb.fit(y)\n",
    "y_train = mlb.transform(y_train)\n",
    "#y_test = mlb.transform(y_test)\n",
    "mlb.classes_"
   ]
  },
  {
   "cell_type": "code",
   "execution_count": null,
   "metadata": {
    "colab": {},
    "colab_type": "code",
    "id": "TmpQZrOp24l8"
   },
   "outputs": [],
   "source": [
    "x_train, tokenizer = tokenize_text(5000, x_train, 350)\n",
    "embedding_matrix = embedding_matrix = createEmbeddingMatrix(tokenizer.word_index, 5000, 400, word_vectors)\n",
    "#x_test = tokenizer.texts_to_sequences(x_test)\n",
    "#x_test = pad_sequences(x_test, 350)"
   ]
  },
  {
   "cell_type": "code",
   "execution_count": null,
   "metadata": {
    "colab": {
     "base_uri": "https://localhost:8080/",
     "height": 34
    },
    "colab_type": "code",
    "id": "fLKer7v70-bn",
    "outputId": "985e4738-9214-4445-f680-ca98b3ef7eb2"
   },
   "outputs": [
    {
     "data": {
      "text/plain": [
       "(9448, 350)"
      ]
     },
     "execution_count": 32,
     "metadata": {
      "tags": []
     },
     "output_type": "execute_result"
    }
   ],
   "source": [
    "x_train.shape"
   ]
  },
  {
   "cell_type": "code",
   "execution_count": null,
   "metadata": {
    "colab": {},
    "colab_type": "code",
    "id": "CY3noxy79bCD"
   },
   "outputs": [],
   "source": [
    "df_y_train = pd.DataFrame(y_train, columns=mlb.classes_)\n",
    "#df_y_test = pd.DataFrame(y_test, columns=mlb.classes_)"
   ]
  },
  {
   "cell_type": "code",
   "execution_count": null,
   "metadata": {
    "colab": {
     "base_uri": "https://localhost:8080/",
     "height": 359
    },
    "colab_type": "code",
    "id": "YUkgZg9I97CV",
    "outputId": "77f402ed-f467-4dd2-c13a-98a366e0b618"
   },
   "outputs": [
    {
     "data": {
      "text/html": [
       "<div>\n",
       "<style scoped>\n",
       "    .dataframe tbody tr th:only-of-type {\n",
       "        vertical-align: middle;\n",
       "    }\n",
       "\n",
       "    .dataframe tbody tr th {\n",
       "        vertical-align: top;\n",
       "    }\n",
       "\n",
       "    .dataframe thead th {\n",
       "        text-align: right;\n",
       "    }\n",
       "</style>\n",
       "<table border=\"1\" class=\"dataframe\">\n",
       "  <thead>\n",
       "    <tr style=\"text-align: right;\">\n",
       "      <th></th>\n",
       "      <th>category</th>\n",
       "      <th>number_of_review</th>\n",
       "    </tr>\n",
       "  </thead>\n",
       "  <tbody>\n",
       "    <tr>\n",
       "      <th>0</th>\n",
       "      <td>ac_P1</td>\n",
       "      <td>2056</td>\n",
       "    </tr>\n",
       "    <tr>\n",
       "      <th>1</th>\n",
       "      <td>air_panas_P1</td>\n",
       "      <td>1459</td>\n",
       "    </tr>\n",
       "    <tr>\n",
       "      <th>2</th>\n",
       "      <td>bau_P1</td>\n",
       "      <td>1414</td>\n",
       "    </tr>\n",
       "    <tr>\n",
       "      <th>3</th>\n",
       "      <td>general</td>\n",
       "      <td>1083</td>\n",
       "    </tr>\n",
       "    <tr>\n",
       "      <th>4</th>\n",
       "      <td>kebersihan</td>\n",
       "      <td>4000</td>\n",
       "    </tr>\n",
       "    <tr>\n",
       "      <th>5</th>\n",
       "      <td>linen_P1</td>\n",
       "      <td>2738</td>\n",
       "    </tr>\n",
       "    <tr>\n",
       "      <th>6</th>\n",
       "      <td>service</td>\n",
       "      <td>2682</td>\n",
       "    </tr>\n",
       "    <tr>\n",
       "      <th>7</th>\n",
       "      <td>sunrise_meal_P1</td>\n",
       "      <td>700</td>\n",
       "    </tr>\n",
       "    <tr>\n",
       "      <th>8</th>\n",
       "      <td>tv_P1</td>\n",
       "      <td>914</td>\n",
       "    </tr>\n",
       "    <tr>\n",
       "      <th>9</th>\n",
       "      <td>wifi_P1</td>\n",
       "      <td>1422</td>\n",
       "    </tr>\n",
       "  </tbody>\n",
       "</table>\n",
       "</div>"
      ],
      "text/plain": [
       "          category  number_of_review\n",
       "0            ac_P1              2056\n",
       "1     air_panas_P1              1459\n",
       "2           bau_P1              1414\n",
       "3          general              1083\n",
       "4       kebersihan              4000\n",
       "5         linen_P1              2738\n",
       "6          service              2682\n",
       "7  sunrise_meal_P1               700\n",
       "8            tv_P1               914\n",
       "9          wifi_P1              1422"
      ]
     },
     "execution_count": 22,
     "metadata": {
      "tags": []
     },
     "output_type": "execute_result"
    }
   ],
   "source": [
    "counts = []\n",
    "for category in df_y_train:\n",
    "    counts.append((category, df_y_train[category].value_counts()[1]))\n",
    "df_stats_train = pd.DataFrame(counts, columns=['category', 'number_of_review'])\n",
    "df_stats_train"
   ]
  },
  {
   "cell_type": "code",
   "execution_count": null,
   "metadata": {
    "colab": {
     "base_uri": "https://localhost:8080/",
     "height": 359
    },
    "colab_type": "code",
    "id": "6AEbD0mvDEM3",
    "outputId": "d27ac57b-d64f-4ed2-c9ad-f7a5e284924f"
   },
   "outputs": [
    {
     "data": {
      "text/html": [
       "<div>\n",
       "<style scoped>\n",
       "    .dataframe tbody tr th:only-of-type {\n",
       "        vertical-align: middle;\n",
       "    }\n",
       "\n",
       "    .dataframe tbody tr th {\n",
       "        vertical-align: top;\n",
       "    }\n",
       "\n",
       "    .dataframe thead th {\n",
       "        text-align: right;\n",
       "    }\n",
       "</style>\n",
       "<table border=\"1\" class=\"dataframe\">\n",
       "  <thead>\n",
       "    <tr style=\"text-align: right;\">\n",
       "      <th></th>\n",
       "      <th>category</th>\n",
       "      <th>number_of_review</th>\n",
       "    </tr>\n",
       "  </thead>\n",
       "  <tbody>\n",
       "    <tr>\n",
       "      <th>0</th>\n",
       "      <td>ac_P1</td>\n",
       "      <td>410</td>\n",
       "    </tr>\n",
       "    <tr>\n",
       "      <th>1</th>\n",
       "      <td>air_panas_P1</td>\n",
       "      <td>300</td>\n",
       "    </tr>\n",
       "    <tr>\n",
       "      <th>2</th>\n",
       "      <td>bau_P1</td>\n",
       "      <td>275</td>\n",
       "    </tr>\n",
       "    <tr>\n",
       "      <th>3</th>\n",
       "      <td>general</td>\n",
       "      <td>224</td>\n",
       "    </tr>\n",
       "    <tr>\n",
       "      <th>4</th>\n",
       "      <td>kebersihan</td>\n",
       "      <td>784</td>\n",
       "    </tr>\n",
       "    <tr>\n",
       "      <th>5</th>\n",
       "      <td>linen_P1</td>\n",
       "      <td>548</td>\n",
       "    </tr>\n",
       "    <tr>\n",
       "      <th>6</th>\n",
       "      <td>service</td>\n",
       "      <td>520</td>\n",
       "    </tr>\n",
       "    <tr>\n",
       "      <th>7</th>\n",
       "      <td>sunrise_meal_P1</td>\n",
       "      <td>138</td>\n",
       "    </tr>\n",
       "    <tr>\n",
       "      <th>8</th>\n",
       "      <td>tv_P1</td>\n",
       "      <td>178</td>\n",
       "    </tr>\n",
       "    <tr>\n",
       "      <th>9</th>\n",
       "      <td>wifi_P1</td>\n",
       "      <td>292</td>\n",
       "    </tr>\n",
       "  </tbody>\n",
       "</table>\n",
       "</div>"
      ],
      "text/plain": [
       "          category  number_of_review\n",
       "0            ac_P1               410\n",
       "1     air_panas_P1               300\n",
       "2           bau_P1               275\n",
       "3          general               224\n",
       "4       kebersihan               784\n",
       "5         linen_P1               548\n",
       "6          service               520\n",
       "7  sunrise_meal_P1               138\n",
       "8            tv_P1               178\n",
       "9          wifi_P1               292"
      ]
     },
     "execution_count": 25,
     "metadata": {
      "tags": []
     },
     "output_type": "execute_result"
    }
   ],
   "source": [
    "counts = []\n",
    "for category in df_y_test:\n",
    "    counts.append((category, df_y_test[category].value_counts()[1]))\n",
    "df_stats_test = pd.DataFrame(counts, columns=['category', 'number_of_review'])\n",
    "df_stats_test"
   ]
  },
  {
   "cell_type": "code",
   "execution_count": null,
   "metadata": {
    "colab": {},
    "colab_type": "code",
    "id": "CLVCmFRME62a"
   },
   "outputs": [],
   "source": [
    "import os\n",
    "\n",
    "path = 'model-cnn.h5'\n",
    "path_dir = os.path.dirname(path)"
   ]
  },
  {
   "cell_type": "markdown",
   "metadata": {
    "colab_type": "text",
    "id": "ACXJvuntjmWP"
   },
   "source": [
    "# Training CNN\n",
    "\n",
    "\n",
    "---\n",
    "\n"
   ]
  },
  {
   "cell_type": "code",
   "execution_count": null,
   "metadata": {
    "colab": {},
    "colab_type": "code",
    "id": "WRlaeMyVRE7n"
   },
   "outputs": [],
   "source": [
    "import pickle\n",
    "from sklearn.model_selection import KFold\n",
    "from time import time"
   ]
  },
  {
   "cell_type": "code",
   "execution_count": null,
   "metadata": {
    "colab": {
     "base_uri": "https://localhost:8080/",
     "height": 632
    },
    "colab_type": "code",
    "id": "S9ixoqalK28v",
    "outputId": "59c94ab6-a05a-4cd3-ac88-c3fdff5441a0"
   },
   "outputs": [
    {
     "name": "stdout",
     "output_type": "stream",
     "text": [
      "Training on Fold:  1\n",
      "1890/1890 [==============================] - 3s 2ms/step\n",
      "0.12170638334814203\n",
      "0.662962962962963\n",
      "====================================================================================\n",
      "\n",
      "\n",
      "Training on Fold:  2\n",
      "1890/1890 [==============================] - 3s 2ms/step\n",
      "0.1288348745495554\n",
      "0.5962962962962963\n",
      "====================================================================================\n",
      "\n",
      "\n",
      "Training on Fold:  3\n",
      "1890/1890 [==============================] - 4s 2ms/step\n",
      "0.1263500382660558\n",
      "0.6126984126984127\n",
      "====================================================================================\n",
      "\n",
      "\n",
      "Training on Fold:  4\n",
      "1890/1890 [==============================] - 4s 2ms/step\n",
      "0.13781547808142566\n",
      "0.6439153439153439\n",
      "====================================================================================\n",
      "\n",
      "\n",
      "Training on Fold:  5\n",
      "1890/1890 [==============================] - 4s 2ms/step\n",
      "0.12891965590456805\n",
      "0.6074074074074074\n",
      "====================================================================================\n",
      "\n",
      "\n"
     ]
    }
   ],
   "source": [
    "kfold = KFold(5, True, random_state=7)\n",
    "#n_folds=5\n",
    "\n",
    "window_sizes_all = [[2,3,4]]\n",
    "for window_sizes in window_sizes_all:\n",
    "  filters = 128\n",
    "  conv_activation = 'relu'\n",
    "  dense_units = 256\n",
    "  epochs=50\n",
    "  file_history = 'model_history-' + str(filters) + '-' + str(window_sizes) + '-' + conv_activation + '-' + str(dense_units) + '-' + str(epochs)\n",
    "  path_best = 'model-cnn-'+ str(filters) + '-' + str(window_sizes) + '-' + conv_activation + '-' + str(dense_units)+ 'cv.h5'\n",
    "  path_cv_result = 'cv-res-'+ str(filters) + '-' + str(window_sizes) + '-' + conv_activation + '-' + str(dense_units) + '-' + str(epochs) + '.csv'\n",
    "\n",
    "  # 1. Authenticate and create the PyDrive client.\n",
    "  auth.authenticate_user()\n",
    "  gauth = GoogleAuth()\n",
    "  gauth.credentials = GoogleCredentials.get_application_default()\n",
    "  drive = GoogleDrive(gauth)\n",
    "  \n",
    "  #save the model history in a list after fitting so that we can plot later\n",
    "  model_history = [] \n",
    "  table_cnn = []\n",
    "\n",
    "  i=0\n",
    "  for t, v in kfold.split(x_train, y_train):\n",
    "    print(\"Training on Fold: \",i+1)\n",
    "    t_x = x_train[t]\n",
    "    val_x = x_train[v]\n",
    "    t_y = y_train[t]\n",
    "    val_y = y_train[v]\n",
    "    \n",
    "    history, metrics, f1_macro, f1_micro, hamloss, training_time = fit_cnn(t_x, t_y, val_x, val_y, filters, window_sizes, embedding_matrix, conv_activation, dense_units, epochs, path, False)\n",
    "    loss = metrics[0]\n",
    "    categorical_accuracy = metrics[1]\n",
    "    print(loss)\n",
    "    print(categorical_accuracy)\n",
    "    \n",
    "    model_history.append(history)\n",
    "    print(\"=======\"*12, end=\"\\n\\n\\n\")\n",
    "    \n",
    "    table_cnn += [[loss, categorical_accuracy, f1_macro, f1_micro, hamloss, training_time]]\n",
    "    \n",
    "    i+=1\n",
    "    \n",
    "  df_cnn = pd.DataFrame(table_cnn, columns=['losses', 'categorical_accuracies', 'f1_macro', 'f1_micro', 'hamloss', 'time'], index=range(1,len(table_cnn)+1))\n",
    "  df_cnn.to_csv(path_cv_result)\n",
    "  file = drive.CreateFile({'title' : path_cv_result})\n",
    "  file.SetContentFile(path_cv_result)\n",
    "  file.Upload()\n",
    "    \n",
    "  with open(file_history, 'wb') as pickle_file:\n",
    "    pickle.dump(model_history, pickle_file)\n",
    "      \n",
    "  file = drive.CreateFile({'title' : file_history})\n",
    "  file.SetContentFile(file_history)\n",
    "  file.Upload()"
   ]
  },
  {
   "cell_type": "code",
   "execution_count": null,
   "metadata": {
    "colab": {
     "base_uri": "https://localhost:8080/",
     "height": 68
    },
    "colab_type": "code",
    "id": "W8PCHVRq5A2D",
    "outputId": "ecae5340-ce84-40ad-b224-5d0911f1d9df"
   },
   "outputs": [
    {
     "name": "stdout",
     "output_type": "stream",
     "text": [
      "1890/1890 [==============================] - 8s 4ms/step\n",
      "loss: 0.1474211360411669\n",
      "categorical_accuracy: 0.6931216931216931\n"
     ]
    }
   ],
   "source": [
    "cnn_model = keras.models.load_model(path_best)\n",
    "metrics = cnn_model.evaluate(x_test, y_test)\n",
    "print(\"{}: {}\".format(cnn_model.metrics_names[0], metrics[0]))\n",
    "print(\"{}: {}\".format(cnn_model.metrics_names[1], metrics[1]))"
   ]
  },
  {
   "cell_type": "code",
   "execution_count": null,
   "metadata": {
    "colab": {
     "base_uri": "https://localhost:8080/",
     "height": 394
    },
    "colab_type": "code",
    "id": "4wyUORTM7Ep2",
    "outputId": "157e5035-95cb-4e15-a223-1cd7c8128d82"
   },
   "outputs": [
    {
     "name": "stdout",
     "output_type": "stream",
     "text": [
      "                 precision    recall  f1-score   support\n",
      "\n",
      "          ac_P1     0.9736    0.9878    0.9806       410\n",
      "   air_panas_P1     0.9697    0.9600    0.9648       300\n",
      "         bau_P1     0.8993    0.9418    0.9201       275\n",
      "        general     0.8789    0.7455    0.8068       224\n",
      "     kebersihan     0.9406    0.9286    0.9345       784\n",
      "       linen_P1     0.9514    0.8212    0.8815       548\n",
      "        service     0.8950    0.9019    0.8985       520\n",
      "sunrise_meal_P1     0.9444    0.8623    0.9015       138\n",
      "          tv_P1     0.9556    0.9663    0.9609       178\n",
      "        wifi_P1     0.9824    0.9555    0.9688       292\n",
      "\n",
      "      micro avg     0.9392    0.9092    0.9240      3669\n",
      "      macro avg     0.9391    0.9071    0.9218      3669\n",
      "   weighted avg     0.9391    0.9092    0.9230      3669\n",
      "    samples avg     0.9306    0.9221    0.9154      3669\n",
      "\n",
      "0.029047619047619048\n"
     ]
    },
    {
     "name": "stderr",
     "output_type": "stream",
     "text": [
      "/usr/local/lib/python3.6/dist-packages/sklearn/metrics/classification.py:1143: UndefinedMetricWarning: Precision and F-score are ill-defined and being set to 0.0 in samples with no predicted labels.\n",
      "  'precision', 'predicted', average, warn_for)\n"
     ]
    }
   ],
   "source": [
    "y_pred = cnn_model.predict(x_test)\n",
    "y_pred_bool = np.array([[0 if x <= 0.5 else 1 for x in arr] for arr in y_pred])\n",
    "print(classification_report(y_test,y_pred_bool, target_names=mlb.classes_, digits=4))\n",
    "print(hamming_loss(y_test,y_pred_bool))"
   ]
  },
  {
   "cell_type": "code",
   "execution_count": null,
   "metadata": {
    "colab": {},
    "colab_type": "code",
    "id": "jeCNVPXP8clD"
   },
   "outputs": [],
   "source": [
    "x_train_xg, x_test_xg = get_output_cnn(cnn_model, x_train, x_test)"
   ]
  },
  {
   "cell_type": "code",
   "execution_count": null,
   "metadata": {
    "colab": {
     "base_uri": "https://localhost:8080/",
     "height": 394
    },
    "colab_type": "code",
    "id": "YDYGHtxk8h-r",
    "outputId": "7817433e-c4f6-4a3c-ba40-f74f7290abd8"
   },
   "outputs": [
    {
     "name": "stdout",
     "output_type": "stream",
     "text": [
      "                 precision    recall  f1-score   support\n",
      "\n",
      "          ac_P1     0.9712    0.9878    0.9794       410\n",
      "   air_panas_P1     0.9698    0.9633    0.9666       300\n",
      "         bau_P1     0.9167    0.9200    0.9183       275\n",
      "        general     0.8214    0.8214    0.8214       224\n",
      "     kebersihan     0.9320    0.9439    0.9379       784\n",
      "       linen_P1     0.8982    0.9015    0.8998       548\n",
      "        service     0.8835    0.9192    0.9010       520\n",
      "sunrise_meal_P1     0.9071    0.9203    0.9137       138\n",
      "          tv_P1     0.9508    0.9775    0.9640       178\n",
      "        wifi_P1     0.9828    0.9760    0.9794       292\n",
      "\n",
      "      micro avg     0.9235    0.9346    0.9290      3669\n",
      "      macro avg     0.9234    0.9331    0.9282      3669\n",
      "   weighted avg     0.9237    0.9346    0.9291      3669\n",
      "    samples avg     0.9264    0.9424    0.9242      3669\n",
      "\n",
      "0.027724867724867725\n"
     ]
    },
    {
     "name": "stderr",
     "output_type": "stream",
     "text": [
      "/usr/local/lib/python3.6/dist-packages/sklearn/metrics/classification.py:1143: UndefinedMetricWarning: Precision and F-score are ill-defined and being set to 0.0 in samples with no predicted labels.\n",
      "  'precision', 'predicted', average, warn_for)\n"
     ]
    }
   ],
   "source": [
    "clf = ClassifierChain(XGBClassifier(), order=[0,1,9,8,5,4,2,3,7,6])\n",
    "clf.fit(x_train_xg, y_train)\n",
    "y_pred = clf.predict(x_test_xg)\n",
    "y_pred = y_pred.todense().tolist()\n",
    "for p in y_pred:\n",
    "  p[0], p[1], p[9], p[8], p[5], p[4], p[2], p[3], p[7], p[6] =  p[0], p[1], p[2], p[3], p[4], p[5], p[6], p[7], p[8], p[9]\n",
    "y_pred = np.array(y_pred)\n",
    "print(classification_report(y_test,y_pred, target_names=mlb.classes_, digits=4))\n",
    "hamloss = hamming_loss(y_test,y_pred)\n",
    "print(hamloss)"
   ]
  },
  {
   "cell_type": "code",
   "execution_count": null,
   "metadata": {
    "colab": {
     "base_uri": "https://localhost:8080/",
     "height": 281
    },
    "colab_type": "code",
    "id": "uc7dpr_nZ9RV",
    "outputId": "bbb1832b-cff5-4f6d-b1b2-b78f6a8806fa"
   },
   "outputs": [
    {
     "data": {
      "image/png": "[encoded data removed]",
      "text/plain": [
       "<Figure size 432x288 with 1 Axes>"
      ]
     },
     "metadata": {
      "tags": []
     },
     "output_type": "display_data"
    }
   ],
   "source": [
    "plt.title('Accuracies vs Epochs')\n",
    "plt.plot(model_history[0].history['categorical_accuracy'], label='Training Fold 1')\n",
    "plt.plot(model_history[1].history['categorical_accuracy'], label='Training Fold 2')\n",
    "plt.plot(model_history[2].history['categorical_accuracy'], label='Training Fold 3')\n",
    "plt.plot(model_history[3].history['categorical_accuracy'], label='Training Fold 4')\n",
    "plt.plot(model_history[4].history['categorical_accuracy'], label='Training Fold 5')\n",
    "plt.legend()\n",
    "plt.show()"
   ]
  },
  {
   "cell_type": "code",
   "execution_count": null,
   "metadata": {
    "colab": {
     "base_uri": "https://localhost:8080/",
     "height": 299
    },
    "colab_type": "code",
    "id": "JMPzTKKkaHWA",
    "outputId": "32fefdb2-fafe-4b1c-d33e-b442e0b49617"
   },
   "outputs": [
    {
     "data": {
      "image/png": "[encoded data removed]",
      "text/plain": [
       "<Figure size 432x288 with 1 Axes>"
      ]
     },
     "metadata": {
      "tags": []
     },
     "output_type": "display_data"
    },
    {
     "data": {
      "text/plain": [
       "<Figure size 432x288 with 0 Axes>"
      ]
     },
     "metadata": {
      "tags": []
     },
     "output_type": "display_data"
    }
   ],
   "source": [
    "plt.title('Loss vs Epochs')\n",
    "plt.plot(model_history[0].history['loss'], label='Training Fold 1')\n",
    "plt.plot(model_history[1].history['loss'], label='Training Fold 2')\n",
    "plt.plot(model_history[2].history['loss'], label='Training Fold 3')\n",
    "plt.plot(model_history[3].history['loss'], label='Training Fold 4')\n",
    "plt.plot(model_history[4].history['loss'], label='Training Fold 5')\n",
    "plt.legend()\n",
    "plt.show()\n",
    "plt.savefig('loss-cnn.png')"
   ]
  },
  {
   "cell_type": "code",
   "execution_count": null,
   "metadata": {
    "colab": {},
    "colab_type": "code",
    "id": "4CrjCirgjkpS"
   },
   "outputs": [],
   "source": [
    "# 1. Authenticate and create the PyDrive client.\n",
    "auth.authenticate_user()\n",
    "gauth = GoogleAuth()\n",
    "gauth.credentials = GoogleCredentials.get_application_default()\n",
    "drive = GoogleDrive(gauth)\n",
    "\n",
    "# 2. Save Keras Model or weights on google drive\n",
    "\n",
    "# create on Colab directory\n",
    "# model.save('model.h5')    \n",
    "file = drive.CreateFile({'title' : 'loss-cnn.png'})\n",
    "file.SetContentFile('loss-cnn.png')\n",
    "file.Upload()"
   ]
  },
  {
   "cell_type": "code",
   "execution_count": null,
   "metadata": {
    "colab": {
     "base_uri": "https://localhost:8080/",
     "height": 35
    },
    "colab_type": "code",
    "id": "gGJGbgl3aYDD",
    "outputId": "afb0a696-55dd-4ea0-a2a3-2b0311e83c37"
   },
   "outputs": [
    {
     "data": {
      "text/plain": [
       "14"
      ]
     },
     "execution_count": 31,
     "metadata": {
      "tags": []
     },
     "output_type": "execute_result"
    }
   ],
   "source": [
    "from statistics import mean\n",
    "min_epoch = min([len(l) for l in [q.history['loss'] for q in model_history]])\n",
    "losses = [l for l in [q.history['loss'] for q in model_history]]\n",
    "min_loss = min([l for l in[mean(q) for q in [[p[i] for p in losses]  for i in range(min_epoch)]]])\n",
    "avg_losses = [mean(q) for q in [[p[i] for p in losses]  for i in range(min_epoch)]]\n",
    "epochs = avg_losses.index(min_loss)+1\n",
    "epochs"
   ]
  },
  {
   "cell_type": "markdown",
   "metadata": {
    "colab_type": "text",
    "id": "i2ScpkvHkXKc"
   },
   "source": []
  },
  {
   "cell_type": "markdown",
   "metadata": {
    "colab_type": "text",
    "id": "ANhpgW49kKej"
   },
   "source": [
    "# Extract CNN Feature\n",
    "\n",
    "---\n",
    "\n"
   ]
  },
  {
   "cell_type": "code",
   "execution_count": null,
   "metadata": {
    "colab": {},
    "colab_type": "code",
    "id": "KCI4QK9t_waV"
   },
   "outputs": [],
   "source": [
    "x_train_xg, x_test_xg = get_output_cnn(cnn_model, x_train, x_test)\n",
    "category = mlb.classes_.tolist()"
   ]
  },
  {
   "cell_type": "markdown",
   "metadata": {
    "colab_type": "text",
    "id": "eyc2uD_2j8_i"
   },
   "source": [
    "# Training XGBoost-BR\n",
    "\n",
    "---\n",
    "\n"
   ]
  },
  {
   "cell_type": "code",
   "execution_count": null,
   "metadata": {
    "colab": {
     "base_uri": "https://localhost:8080/",
     "height": 527
    },
    "colab_type": "code",
    "id": "Xmx5-n-tlAf4",
    "outputId": "889b0821-4a79-4c73-e420-2653e5a48741"
   },
   "outputs": [
    {
     "name": "stdout",
     "output_type": "stream",
     "text": [
      "Training on Fold:  1\n",
      "0.948016641346394\n",
      "0.01984126984126984\n",
      "====================================================================================\n",
      "\n",
      "\n",
      "Training on Fold:  2\n",
      "0.935566165881298\n",
      "0.02275132275132275\n",
      "====================================================================================\n",
      "\n",
      "\n",
      "Training on Fold:  3\n",
      "0.9385460033492011\n",
      "0.02328042328042328\n",
      "====================================================================================\n",
      "\n",
      "\n",
      "Training on Fold:  4\n",
      "0.9420967874300601\n",
      "0.020370370370370372\n",
      "====================================================================================\n",
      "\n",
      "\n",
      "Training on Fold:  5\n",
      "0.9426659781959652\n",
      "0.020370370370370372\n",
      "====================================================================================\n",
      "\n",
      "\n"
     ]
    }
   ],
   "source": [
    "\n",
    "\n",
    "table = []\n",
    "training_times = []\n",
    "prediction_times = []\n",
    "losses = []\n",
    "categorical_accuracies = []\n",
    "\n",
    "n_folds=5\n",
    "epochs=100\n",
    "\n",
    "for i in range(n_folds):\n",
    "    print(\"Training on Fold: \",i+1)\n",
    "    t_x, val_x, t_y, val_y = train_test_split(x_train_xg, y_train, test_size=0.1, \n",
    "                                               random_state = np.random.randint(1,1000, 1)[0])\n",
    "    clf = BinaryRelevance(XGBClassifier())\n",
    "    clf.fit(t_x, t_y)\n",
    "    y_pred = clf.predict(val_x)\n",
    "    #print(classification_report(val_y,y_pred, target_names=category, digits=4))\n",
    "    print(f1_score(val_y, y_pred, average='macro'))\n",
    "    print(hamming_loss(val_y,y_pred))\n",
    "    print(\"=======\"*12, end=\"\\n\\n\\n\")"
   ]
  },
  {
   "cell_type": "code",
   "execution_count": null,
   "metadata": {
    "colab": {
     "base_uri": "https://localhost:8080/",
     "height": 394
    },
    "colab_type": "code",
    "id": "ZwBbXvdslFoO",
    "outputId": "260e9a43-09de-46f8-b01b-f9408f78c27c"
   },
   "outputs": [
    {
     "name": "stdout",
     "output_type": "stream",
     "text": [
      "                 precision    recall  f1-score   support\n",
      "\n",
      "          ac_P1     0.9852    0.9901    0.9877       202\n",
      "   air_panas_P1     0.9583    0.9650    0.9617       143\n",
      "         bau_P1     0.8712    0.9595    0.9132       148\n",
      "        general     0.7981    0.7477    0.7721       111\n",
      "     kebersihan     0.9123    0.9100    0.9111       400\n",
      "       linen_P1     0.8924    0.9113    0.9018       282\n",
      "        service     0.8931    0.9035    0.8983       259\n",
      "sunrise_meal_P1     0.8857    0.8857    0.8857        70\n",
      "          tv_P1     0.9271    0.9570    0.9418        93\n",
      "        wifi_P1     0.9648    0.9580    0.9614       143\n",
      "\n",
      "      micro avg     0.9118    0.9217    0.9167      1851\n",
      "      macro avg     0.9088    0.9188    0.9135      1851\n",
      "   weighted avg     0.9117    0.9217    0.9165      1851\n",
      "    samples avg     0.9142    0.9298    0.9095      1851\n",
      "\n",
      "0.03202479338842975\n"
     ]
    },
    {
     "name": "stderr",
     "output_type": "stream",
     "text": [
      "/usr/local/lib/python3.6/dist-packages/sklearn/metrics/classification.py:1143: UndefinedMetricWarning: Precision and F-score are ill-defined and being set to 0.0 in samples with no predicted labels.\n",
      "  'precision', 'predicted', average, warn_for)\n"
     ]
    }
   ],
   "source": [
    "y_pred = clf.predict(x_test_xg)\n",
    "print(classification_report(y_test,y_pred, target_names=category, digits=4))\n",
    "print(hamming_loss(y_test,y_pred))"
   ]
  },
  {
   "cell_type": "markdown",
   "metadata": {
    "colab_type": "text",
    "id": "i57FtGbBpQBg"
   },
   "source": [
    "# Training XGBoost-CC"
   ]
  },
  {
   "cell_type": "code",
   "execution_count": null,
   "metadata": {
    "colab": {
     "base_uri": "https://localhost:8080/",
     "height": 527
    },
    "colab_type": "code",
    "id": "amFVBwEalPd-",
    "outputId": "6284c1f7-4ef5-476f-ccd1-d0afa80221a5"
   },
   "outputs": [
    {
     "name": "stdout",
     "output_type": "stream",
     "text": [
      "Training on Fold:  1\n",
      "0.9421596876380646\n",
      "0.0208994708994709\n",
      "====================================================================================\n",
      "\n",
      "\n",
      "Training on Fold:  2\n",
      "0.9334688402173166\n",
      "0.021957671957671957\n",
      "====================================================================================\n",
      "\n",
      "\n",
      "Training on Fold:  3\n",
      "0.9528088879367862\n",
      "0.018518518518518517\n",
      "====================================================================================\n",
      "\n",
      "\n",
      "Training on Fold:  4\n",
      "0.9282952328508678\n",
      "0.023544973544973546\n",
      "====================================================================================\n",
      "\n",
      "\n",
      "Training on Fold:  5\n",
      "0.9507289216437403\n",
      "0.017724867724867723\n",
      "====================================================================================\n",
      "\n",
      "\n"
     ]
    }
   ],
   "source": [
    "n_folds=5\n",
    "epochs=100\n",
    "\n",
    "for i in range(n_folds):\n",
    "    print(\"Training on Fold: \",i+1)\n",
    "    t_x, val_x, t_y, val_y = train_test_split(x_train_xg, y_train, test_size=0.1, \n",
    "                                               random_state = np.random.randint(1,1000, 1)[0])\n",
    "    clf = ClassifierChain(XGBClassifier(), order=[0,1,9,8,5,4,2,3,7,6])\n",
    "    clf.fit(t_x, t_y)\n",
    "    y_pred = clf.predict(val_x)\n",
    "    \n",
    "    y_pred = y_pred.todense().tolist()\n",
    "    for p in y_pred:\n",
    "      p[0], p[1], p[9], p[8], p[5], p[4], p[2], p[3], p[7], p[6] =  p[0], p[1], p[2], p[3], p[4], p[5], p[6], p[7], p[8], p[9]\n",
    "    y_pred = np.array(y_pred)\n",
    "    \n",
    "    #print(classification_report(val_y,y_pred, target_names=category, digits=4))\n",
    "    print(f1_score(val_y, y_pred, average='macro'))\n",
    "    print(hamming_loss(val_y,y_pred))\n",
    "    print(\"=======\"*12, end=\"\\n\\n\\n\")"
   ]
  },
  {
   "cell_type": "code",
   "execution_count": null,
   "metadata": {
    "colab": {
     "base_uri": "https://localhost:8080/",
     "height": 394
    },
    "colab_type": "code",
    "id": "nNlhwveWmDfF",
    "outputId": "8382450b-96f2-4f49-cd2e-3fb68a350617"
   },
   "outputs": [
    {
     "name": "stdout",
     "output_type": "stream",
     "text": [
      "                 precision    recall  f1-score   support\n",
      "\n",
      "          ac_P1     0.9804    0.9901    0.9852       202\n",
      "   air_panas_P1     0.9517    0.9650    0.9583       143\n",
      "         bau_P1     0.8659    0.9595    0.9103       148\n",
      "        general     0.7778    0.7568    0.7671       111\n",
      "     kebersihan     0.9102    0.9125    0.9114       400\n",
      "       linen_P1     0.8897    0.9149    0.9021       282\n",
      "        service     0.8893    0.8996    0.8944       259\n",
      "sunrise_meal_P1     0.9143    0.9143    0.9143        70\n",
      "          tv_P1     0.9368    0.9570    0.9468        93\n",
      "        wifi_P1     0.9648    0.9580    0.9614       143\n",
      "\n",
      "      micro avg     0.9091    0.9238    0.9164      1851\n",
      "      macro avg     0.9081    0.9228    0.9151      1851\n",
      "   weighted avg     0.9092    0.9238    0.9163      1851\n",
      "    samples avg     0.9102    0.9302    0.9074      1851\n",
      "\n",
      "0.032231404958677684\n"
     ]
    },
    {
     "name": "stderr",
     "output_type": "stream",
     "text": [
      "/usr/local/lib/python3.6/dist-packages/sklearn/metrics/classification.py:1143: UndefinedMetricWarning: Precision and F-score are ill-defined and being set to 0.0 in samples with no predicted labels.\n",
      "  'precision', 'predicted', average, warn_for)\n"
     ]
    }
   ],
   "source": [
    "y_pred = clf.predict(x_test_xg)\n",
    "\n",
    "y_pred = y_pred.todense().tolist()\n",
    "for p in y_pred:\n",
    "  p[0], p[1], p[9], p[8], p[5], p[4], p[2], p[3], p[7], p[6] =  p[0], p[1], p[2], p[3], p[4], p[5], p[6], p[7], p[8], p[9]\n",
    "y_pred = np.array(y_pred)\n",
    "\n",
    "print(classification_report(y_test,y_pred, target_names=category, digits=4))\n",
    "print(hamming_loss(y_test,y_pred))"
   ]
  },
  {
   "cell_type": "markdown",
   "metadata": {
    "colab_type": "text",
    "id": "x4k-JQUFpXV8"
   },
   "source": [
    "# Training SVM-BR"
   ]
  },
  {
   "cell_type": "code",
   "execution_count": null,
   "metadata": {
    "colab": {
     "base_uri": "https://localhost:8080/",
     "height": 527
    },
    "colab_type": "code",
    "id": "IJzFC9v-iF3M",
    "outputId": "3192a010-7534-4666-f863-a42f64cb73bd"
   },
   "outputs": [
    {
     "name": "stdout",
     "output_type": "stream",
     "text": [
      "Training on Fold:  1\n",
      "0.9401880023731074\n",
      "0.021957671957671957\n",
      "====================================================================================\n",
      "\n",
      "\n",
      "Training on Fold:  2\n",
      "0.9433721664649102\n",
      "0.020105820105820106\n",
      "====================================================================================\n",
      "\n",
      "\n",
      "Training on Fold:  3\n",
      "0.9271586797358417\n",
      "0.02328042328042328\n",
      "====================================================================================\n",
      "\n",
      "\n",
      "Training on Fold:  4\n",
      "0.9253212608440109\n",
      "0.02142857142857143\n",
      "====================================================================================\n",
      "\n",
      "\n",
      "Training on Fold:  5\n",
      "0.9453795615759152\n",
      "0.01746031746031746\n",
      "====================================================================================\n",
      "\n",
      "\n"
     ]
    }
   ],
   "source": [
    "n_folds=5\n",
    "epochs=100\n",
    "\n",
    "for i in range(n_folds):\n",
    "    print(\"Training on Fold: \",i+1)\n",
    "    t_x, val_x, t_y, val_y = train_test_split(x_train_xg, y_train, test_size=0.1, \n",
    "                                               random_state = np.random.randint(1,1000, 1)[0])\n",
    "    svm_clf = BinaryRelevance(LinearSVC())\n",
    "    svm_clf.fit(t_x, t_y)\n",
    "    y_pred = svm_clf.predict(val_x)\n",
    "    #print(classification_report(val_y,y_pred, target_names=category, digits=4))\n",
    "    print(f1_score(val_y, y_pred, average='macro'))\n",
    "    print(hamming_loss(val_y,y_pred))\n",
    "    print(\"=======\"*12, end=\"\\n\\n\\n\")"
   ]
  },
  {
   "cell_type": "code",
   "execution_count": null,
   "metadata": {
    "colab": {
     "base_uri": "https://localhost:8080/",
     "height": 394
    },
    "colab_type": "code",
    "id": "0xIVCwcvcWE_",
    "outputId": "8dcf9726-3830-4627-b7e6-538f9bbf37ac"
   },
   "outputs": [
    {
     "name": "stdout",
     "output_type": "stream",
     "text": [
      "                 precision    recall  f1-score   support\n",
      "\n",
      "          ac_P1     0.9801    0.9752    0.9777       202\n",
      "   air_panas_P1     0.9583    0.9650    0.9617       143\n",
      "         bau_P1     0.8462    0.9662    0.9022       148\n",
      "        general     0.8058    0.7477    0.7757       111\n",
      "     kebersihan     0.9211    0.8750    0.8974       400\n",
      "       linen_P1     0.9094    0.8901    0.8996       282\n",
      "        service     0.9016    0.8842    0.8928       259\n",
      "sunrise_meal_P1     0.9118    0.8857    0.8986        70\n",
      "          tv_P1     0.9362    0.9462    0.9412        93\n",
      "        wifi_P1     0.9716    0.9580    0.9648       143\n",
      "\n",
      "      micro avg     0.9169    0.9065    0.9117      1851\n",
      "      macro avg     0.9142    0.9093    0.9112      1851\n",
      "   weighted avg     0.9173    0.9065    0.9114      1851\n",
      "    samples avg     0.9085    0.9122    0.8972      1851\n",
      "\n",
      "0.033574380165289255\n"
     ]
    },
    {
     "name": "stderr",
     "output_type": "stream",
     "text": [
      "/usr/local/lib/python3.6/dist-packages/sklearn/metrics/classification.py:1143: UndefinedMetricWarning: Precision and F-score are ill-defined and being set to 0.0 in samples with no predicted labels.\n",
      "  'precision', 'predicted', average, warn_for)\n"
     ]
    }
   ],
   "source": [
    "y_pred = svm_clf.predict(x_test_xg)\n",
    "print(classification_report(y_test,y_pred, target_names=category, digits=4))\n",
    "print(hamming_loss(y_test,y_pred))"
   ]
  },
  {
   "cell_type": "markdown",
   "metadata": {
    "colab_type": "text",
    "id": "NC5CsdgHpawC"
   },
   "source": [
    "# Training SVM-CC"
   ]
  },
  {
   "cell_type": "code",
   "execution_count": null,
   "metadata": {
    "colab": {
     "base_uri": "https://localhost:8080/",
     "height": 527
    },
    "colab_type": "code",
    "id": "bpcKJwr8irac",
    "outputId": "8dde1656-278a-4e2f-c8af-187a8b12bdfe"
   },
   "outputs": [
    {
     "name": "stdout",
     "output_type": "stream",
     "text": [
      "Training on Fold:  1\n",
      "0.9489714985742014\n",
      "0.018783068783068783\n",
      "====================================================================================\n",
      "\n",
      "\n",
      "Training on Fold:  2\n",
      "0.9440544129196136\n",
      "0.020634920634920634\n",
      "====================================================================================\n",
      "\n",
      "\n",
      "Training on Fold:  3\n",
      "0.9362990777608038\n",
      "0.018518518518518517\n",
      "====================================================================================\n",
      "\n",
      "\n",
      "Training on Fold:  4\n",
      "0.9353568854833535\n",
      "0.022222222222222223\n",
      "====================================================================================\n",
      "\n",
      "\n",
      "Training on Fold:  5\n",
      "0.9294096714665295\n",
      "0.02328042328042328\n",
      "====================================================================================\n",
      "\n",
      "\n"
     ]
    }
   ],
   "source": [
    "n_folds=5\n",
    "epochs=100\n",
    "\n",
    "for i in range(n_folds):\n",
    "    print(\"Training on Fold: \",i+1)\n",
    "    t_x, val_x, t_y, val_y = train_test_split(x_train_xg, y_train, test_size=0.1, \n",
    "                                               random_state = np.random.randint(1,1000, 1)[0])\n",
    "    svm_clf = ClassifierChain(LinearSVC(), order=[0,1,9,8,5,4,2,3,7,6])\n",
    "    svm_clf.fit(t_x, t_y)\n",
    "    y_pred = svm_clf.predict(val_x)\n",
    "    \n",
    "    y_pred = y_pred.todense().tolist()\n",
    "    for p in y_pred:\n",
    "      p[0], p[1], p[9], p[8], p[5], p[4], p[2], p[3], p[7], p[6] =  p[0], p[1], p[2], p[3], p[4], p[5], p[6], p[7], p[8], p[9]\n",
    "    y_pred = np.array(y_pred)\n",
    "    \n",
    "    #print(classification_report(val_y,y_pred, target_names=category, digits=4))\n",
    "    print(f1_score(val_y, y_pred, average='macro'))\n",
    "    print(hamming_loss(val_y,y_pred))\n",
    "    print(\"=======\"*12, end=\"\\n\\n\\n\")"
   ]
  },
  {
   "cell_type": "code",
   "execution_count": null,
   "metadata": {
    "colab": {
     "base_uri": "https://localhost:8080/",
     "height": 394
    },
    "colab_type": "code",
    "id": "OcZPs2AAmS8Z",
    "outputId": "990626a5-9c7f-463d-e2d8-d60ca2af09ac"
   },
   "outputs": [
    {
     "name": "stdout",
     "output_type": "stream",
     "text": [
      "                 precision    recall  f1-score   support\n",
      "\n",
      "          ac_P1     0.9801    0.9752    0.9777       202\n",
      "   air_panas_P1     0.9517    0.9650    0.9583       143\n",
      "         bau_P1     0.8462    0.9662    0.9022       148\n",
      "        general     0.8155    0.7568    0.7850       111\n",
      "     kebersihan     0.9206    0.8700    0.8946       400\n",
      "       linen_P1     0.9061    0.8901    0.8980       282\n",
      "        service     0.9051    0.8842    0.8945       259\n",
      "sunrise_meal_P1     0.9118    0.8857    0.8986        70\n",
      "          tv_P1     0.9362    0.9462    0.9412        93\n",
      "        wifi_P1     0.9716    0.9580    0.9648       143\n",
      "\n",
      "      micro avg     0.9169    0.9060    0.9114      1851\n",
      "      macro avg     0.9145    0.9097    0.9115      1851\n",
      "   weighted avg     0.9173    0.9060    0.9111      1851\n",
      "    samples avg     0.9087    0.9119    0.8971      1851\n",
      "\n",
      "0.033677685950413226\n"
     ]
    },
    {
     "name": "stderr",
     "output_type": "stream",
     "text": [
      "/usr/local/lib/python3.6/dist-packages/sklearn/metrics/classification.py:1143: UndefinedMetricWarning: Precision and F-score are ill-defined and being set to 0.0 in samples with no predicted labels.\n",
      "  'precision', 'predicted', average, warn_for)\n"
     ]
    }
   ],
   "source": [
    "y_pred = svm_clf.predict(x_test_xg)\n",
    "\n",
    "y_pred = y_pred.todense().tolist()\n",
    "for p in y_pred:\n",
    "    p[0], p[1], p[9], p[8], p[5], p[4], p[2], p[3], p[7], p[6] =  p[0], p[1], p[2], p[3], p[4], p[5], p[6], p[7], p[8], p[9]\n",
    "\n",
    "y_pred = np.array(y_pred)\n",
    "\n",
    "print(classification_report(y_test,y_pred, target_names=category, digits=4))\n",
    "print(hamming_loss(y_test,y_pred))"
   ]
  },
  {
   "cell_type": "markdown",
   "metadata": {
    "colab_type": "text",
    "id": "hAC8l7PHpE3d"
   },
   "source": [
    "# Training CNN-LSTM"
   ]
  },
  {
   "cell_type": "code",
   "execution_count": null,
   "metadata": {
    "colab": {},
    "colab_type": "code",
    "id": "CCqGErkKmikO"
   },
   "outputs": [],
   "source": [
    "import os\n",
    "path_lstm = 'model-cnn-lstm.h5'\n",
    "path_lstm_best = 'model-cnn-lstm-cv.h5'\n",
    "path_dir2 = os.path.dirname(path_lstm)"
   ]
  },
  {
   "cell_type": "code",
   "execution_count": null,
   "metadata": {
    "colab": {
     "base_uri": "https://localhost:8080/",
     "height": 612
    },
    "colab_type": "code",
    "id": "aHNpXyKCm82X",
    "outputId": "7888f069-b833-403a-cf34-eb60d35f9e81"
   },
   "outputs": [
    {
     "name": "stdout",
     "output_type": "stream",
     "text": [
      "Training on Fold:  1\n",
      "1890/1890 [==============================] - 2s 1ms/step\n",
      "0.2667665350058722\n",
      "0.6693121693121693\n",
      "====================================================================================\n",
      "\n",
      "\n",
      "Training on Fold:  2\n",
      "1890/1890 [==============================] - 2s 1ms/step\n",
      "0.2728298464780131\n",
      "0.6915343915343916\n",
      "====================================================================================\n",
      "\n",
      "\n",
      "Training on Fold:  3\n",
      "1890/1890 [==============================] - 3s 1ms/step\n",
      "0.25997536002643523\n",
      "0.6497354497354497\n",
      "====================================================================================\n",
      "\n",
      "\n",
      "Training on Fold:  4\n",
      "1890/1890 [==============================] - 3s 2ms/step\n",
      "0.2783584881081152\n",
      "0.7074074074074074\n",
      "====================================================================================\n",
      "\n",
      "\n",
      "Training on Fold:  5\n",
      "1890/1890 [==============================] - 3s 2ms/step\n",
      "0.2777385256435505\n",
      "0.6798941798941799\n",
      "====================================================================================\n",
      "\n",
      "\n"
     ]
    }
   ],
   "source": [
    "kfold = KFold(5, True, random_state=7)\n",
    "#n_folds=5\n",
    "filters = 128\n",
    "window_sizes = [2,3,4]\n",
    "conv_activation = 'relu'\n",
    "dense_units = 128\n",
    "epochs=50\n",
    "file_history = 'model_history-cnn-lstm' + str(filters) + '-' + str(window_sizes) + '-' + conv_activation + '-' + str(dense_units) + '-' + str(epochs)\n",
    "path_best = 'model-cnn-lstm'+ str(filters) + '-' + str(window_sizes) + '-' + conv_activation + '-' + str(dense_units)+ 'cv.h5'\n",
    "path_cv_result = 'cv-res-cnn-lstm'+ str(filters) + '-' + str(window_sizes) + '-' + conv_activation + '-' + str(dense_units) + '-' + str(epochs) + '.csv'\n",
    "\n",
    "# 1. Authenticate and create the PyDrive client.\n",
    "auth.authenticate_user()\n",
    "gauth = GoogleAuth()\n",
    "gauth.credentials = GoogleCredentials.get_application_default()\n",
    "drive = GoogleDrive(gauth)\n",
    "\n",
    "#save the model history in a list after fitting so that we can plot later\n",
    "model_history = [] \n",
    "table_cnn = []\n",
    "\n",
    "i=0\n",
    "for t, v in kfold.split(x_train, y_train):\n",
    "  print(\"Training on Fold: \",i+1)\n",
    "  t_x = x_train[t]\n",
    "  val_x = x_train[v]\n",
    "  t_y = y_train[t]\n",
    "  val_y = y_train[v]\n",
    "  \n",
    "  history, metrics, f1_macro, f1_micro, hamloss, training_time = fit_and_evaluate_cnn_lstm(t_x, t_y, val_x, val_y, filters, window_sizes, embedding_matrix, conv_activation, dense_units, epochs, path_lstm, False)\n",
    "  \n",
    "  loss = metrics[0]\n",
    "  categorical_accuracy = metrics[1]\n",
    "  print(loss)\n",
    "  print(categorical_accuracy)\n",
    "    \n",
    "  model_history.append(history)\n",
    "  print(\"=======\"*12, end=\"\\n\\n\\n\")\n",
    "  \n",
    "  table_cnn += [[loss, categorical_accuracy, f1_macro, f1_micro, hamloss, training_time]]\n",
    "  \n",
    "  i+=1\n",
    "\n",
    "df_cnn = pd.DataFrame(table_cnn, columns=['loss', 'categorical_accuracy', 'f1_macro', 'f1_micro', 'hamloss', 'training_time'], index=range(1,len(table_cnn)+1))\n",
    "df_cnn.to_csv(path_cv_result)\n",
    "file = drive.CreateFile({'title' : path_cv_result})\n",
    "file.SetContentFile(path_cv_result)\n",
    "file.Upload()\n",
    "\n",
    "with open(file_history, 'wb') as pickle_file:\n",
    "    pickle.dump(model_history, pickle_file)\n",
    "    \n",
    "file = drive.CreateFile({'title' : file_history})\n",
    "file.SetContentFile(file_history)\n",
    "file.Upload()\n",
    "  "
   ]
  },
  {
   "cell_type": "code",
   "execution_count": null,
   "metadata": {
    "colab": {
     "base_uri": "https://localhost:8080/",
     "height": 198
    },
    "colab_type": "code",
    "id": "NFAkfB_tM9VH",
    "outputId": "c4073649-a6ef-4b4d-bd53-ab0d8c5686f0"
   },
   "outputs": [
    {
     "data": {
      "text/html": [
       "<div>\n",
       "<style scoped>\n",
       "    .dataframe tbody tr th:only-of-type {\n",
       "        vertical-align: middle;\n",
       "    }\n",
       "\n",
       "    .dataframe tbody tr th {\n",
       "        vertical-align: top;\n",
       "    }\n",
       "\n",
       "    .dataframe thead th {\n",
       "        text-align: right;\n",
       "    }\n",
       "</style>\n",
       "<table border=\"1\" class=\"dataframe\">\n",
       "  <thead>\n",
       "    <tr style=\"text-align: right;\">\n",
       "      <th></th>\n",
       "      <th>losses</th>\n",
       "      <th>categorical_accuracies</th>\n",
       "      <th>f1_macros</th>\n",
       "      <th>f1_micros</th>\n",
       "      <th>hamming_losses</th>\n",
       "    </tr>\n",
       "  </thead>\n",
       "  <tbody>\n",
       "    <tr>\n",
       "      <th>1</th>\n",
       "      <td>0.268547</td>\n",
       "      <td>0.680952</td>\n",
       "      <td>0.911407</td>\n",
       "      <td>0.914316</td>\n",
       "      <td>0.034392</td>\n",
       "    </tr>\n",
       "    <tr>\n",
       "      <th>2</th>\n",
       "      <td>0.278082</td>\n",
       "      <td>0.665079</td>\n",
       "      <td>0.914081</td>\n",
       "      <td>0.915930</td>\n",
       "      <td>0.033704</td>\n",
       "    </tr>\n",
       "    <tr>\n",
       "      <th>3</th>\n",
       "      <td>0.269599</td>\n",
       "      <td>0.662963</td>\n",
       "      <td>0.916053</td>\n",
       "      <td>0.917060</td>\n",
       "      <td>0.033439</td>\n",
       "    </tr>\n",
       "    <tr>\n",
       "      <th>4</th>\n",
       "      <td>0.270085</td>\n",
       "      <td>0.616402</td>\n",
       "      <td>0.913846</td>\n",
       "      <td>0.915192</td>\n",
       "      <td>0.033968</td>\n",
       "    </tr>\n",
       "    <tr>\n",
       "      <th>5</th>\n",
       "      <td>0.267452</td>\n",
       "      <td>0.689947</td>\n",
       "      <td>0.917779</td>\n",
       "      <td>0.919789</td>\n",
       "      <td>0.032169</td>\n",
       "    </tr>\n",
       "  </tbody>\n",
       "</table>\n",
       "</div>"
      ],
      "text/plain": [
       "     losses  categorical_accuracies  f1_macros  f1_micros  hamming_losses\n",
       "1  0.268547                0.680952   0.911407   0.914316        0.034392\n",
       "2  0.278082                0.665079   0.914081   0.915930        0.033704\n",
       "3  0.269599                0.662963   0.916053   0.917060        0.033439\n",
       "4  0.270085                0.616402   0.913846   0.915192        0.033968\n",
       "5  0.267452                0.689947   0.917779   0.919789        0.032169"
      ]
     },
     "metadata": {
      "tags": []
     },
     "output_type": "display_data"
    }
   ],
   "source": [
    "df_cnn_lstm= pd.DataFrame(table_cnn_lstm, columns=['losses', 'categorical_accuracies', 'f1_macros', 'f1_micros', 'hamming_losses'], index=range(1,len(table_cnn_lstm)+1))\n",
    "display(df_cnn_lstm)"
   ]
  },
  {
   "cell_type": "code",
   "execution_count": null,
   "metadata": {
    "colab": {
     "base_uri": "https://localhost:8080/",
     "height": 72
    },
    "colab_type": "code",
    "id": "uTSziMcLehbI",
    "outputId": "921d271b-f323-4ca4-9a5b-fe6162f4b56f"
   },
   "outputs": [
    {
     "name": "stdout",
     "output_type": "stream",
     "text": [
      "0.9164572927453895\n",
      "0.9146331356109757\n",
      "0.03353439153439154\n"
     ]
    }
   ],
   "source": [
    "print(df_cnn_lstm.f1_micros.mean())\n",
    "print(df_cnn_lstm.f1_macros.mean())\n",
    "print(df_cnn_lstm.hamming_losses.mean())"
   ]
  },
  {
   "cell_type": "code",
   "execution_count": null,
   "metadata": {
    "colab": {
     "base_uri": "https://localhost:8080/",
     "height": 281
    },
    "colab_type": "code",
    "id": "0xYJnKx2qAme",
    "outputId": "3922870f-0e29-4bcb-d0d6-70102475559e"
   },
   "outputs": [
    {
     "data": {
      "image/png": "[encoded data removed]",
      "text/plain": [
       "<Figure size 432x288 with 1 Axes>"
      ]
     },
     "metadata": {
      "tags": []
     },
     "output_type": "display_data"
    }
   ],
   "source": [
    "plt.title('Accuracies vs Epochs')\n",
    "plt.plot(model_history[0].history['categorical_accuracy'], label='Training Fold 1')\n",
    "plt.plot(model_history[1].history['categorical_accuracy'], label='Training Fold 2')\n",
    "plt.plot(model_history[2].history['categorical_accuracy'], label='Training Fold 3')\n",
    "plt.plot(model_history[3].history['categorical_accuracy'], label='Training Fold 4')\n",
    "plt.plot(model_history[4].history['categorical_accuracy'], label='Training Fold 5')\n",
    "plt.legend()\n",
    "plt.show()"
   ]
  },
  {
   "cell_type": "code",
   "execution_count": null,
   "metadata": {
    "colab": {
     "base_uri": "https://localhost:8080/",
     "height": 281
    },
    "colab_type": "code",
    "id": "SbGtXSxRqDVL",
    "outputId": "342d16de-15bb-42e9-df76-1d8148e5afd3"
   },
   "outputs": [
    {
     "data": {
      "image/png": "[encoded data removed]",
      "text/plain": [
       "<Figure size 432x288 with 1 Axes>"
      ]
     },
     "metadata": {
      "tags": []
     },
     "output_type": "display_data"
    }
   ],
   "source": [
    "plt.title('Loss vs Epochs')\n",
    "plt.plot(model_history[0].history['loss'], label='Training Fold 1')\n",
    "plt.plot(model_history[1].history['loss'], label='Training Fold 2')\n",
    "plt.plot(model_history[2].history['loss'], label='Training Fold 3')\n",
    "plt.plot(model_history[3].history['loss'], label='Training Fold 4')\n",
    "plt.plot(model_history[4].history['loss'], label='Training Fold 5')\n",
    "plt.legend()\n",
    "plt.show()"
   ]
  },
  {
   "cell_type": "code",
   "execution_count": null,
   "metadata": {
    "colab": {
     "base_uri": "https://localhost:8080/",
     "height": 72
    },
    "colab_type": "code",
    "id": "Syl9NABRmeSQ",
    "outputId": "881a8ec9-d209-4dfa-8389-8497166675cf"
   },
   "outputs": [
    {
     "name": "stdout",
     "output_type": "stream",
     "text": [
      "1890/1890 [==============================] - 3s 1ms/step\n",
      "loss: 0.26745191907125804\n",
      "categorical_accuracy: 0.68994708994709\n"
     ]
    }
   ],
   "source": [
    "cnn_lstm_model = keras.models.load_model(path_lstm_best)\n",
    "metrics = cnn_lstm_model.evaluate(x_test, y_test)\n",
    "print(\"{}: {}\".format(cnn_lstm_model.metrics_names[0], metrics[0]))\n",
    "print(\"{}: {}\".format(cnn_lstm_model.metrics_names[1], metrics[1]))"
   ]
  },
  {
   "cell_type": "code",
   "execution_count": null,
   "metadata": {
    "colab": {
     "base_uri": "https://localhost:8080/",
     "height": 363
    },
    "colab_type": "code",
    "id": "3s0Y-XYem8-I",
    "outputId": "60c382d9-aaf4-469e-e44c-43ab8f9f425c"
   },
   "outputs": [
    {
     "name": "stdout",
     "output_type": "stream",
     "text": [
      "                 precision    recall  f1-score   support\n",
      "\n",
      "          ac_P1     0.9687    0.9805    0.9745       410\n",
      "   air_panas_P1     0.8743    0.9733    0.9211       300\n",
      "         bau_P1     0.8758    0.9491    0.9110       275\n",
      "        general     0.7659    0.8616    0.8109       224\n",
      "     kebersihan     0.9086    0.9758    0.9410       784\n",
      "       linen_P1     0.8249    0.9544    0.8849       548\n",
      "        service     0.8945    0.9135    0.9039       520\n",
      "sunrise_meal_P1     0.9071    0.9203    0.9137       138\n",
      "          tv_P1     0.9405    0.9775    0.9587       178\n",
      "        wifi_P1     0.9786    0.9384    0.9580       292\n",
      "\n",
      "      micro avg     0.8913    0.9501    0.9198      3669\n",
      "      macro avg     0.8939    0.9444    0.9178      3669\n",
      "   weighted avg     0.8939    0.9501    0.9205      3669\n",
      "    samples avg     0.9160    0.9638    0.9264      3669\n",
      "\n",
      "0.03216931216931217\n"
     ]
    }
   ],
   "source": [
    "y_pred = cnn_lstm_model.predict(x_test)\n",
    "y_pred_bool = (y_pred > 0.1)\n",
    "y_pred = np.array([[0 if x==False else 1 for x in arr] for arr in y_pred_bool])\n",
    "print(classification_report(y_test,y_pred, target_names=category, digits=4))\n",
    "print(hamming_loss(y_test,y_pred))"
   ]
  },
  {
   "cell_type": "code",
   "execution_count": null,
   "metadata": {
    "colab": {},
    "colab_type": "code",
    "id": "5NYTetdWXxrN"
   },
   "outputs": [],
   "source": []
  }
 ],
 "metadata": {
  "accelerator": "GPU",
  "colab": {
   "collapsed_sections": [
    "ANhpgW49kKej",
    "eyc2uD_2j8_i",
    "i57FtGbBpQBg",
    "x4k-JQUFpXV8",
    "NC5CsdgHpawC",
    "hAC8l7PHpE3d"
   ],
   "name": "aspect-categorization.ipynb",
   "provenance": []
  },
  "kernelspec": {
   "display_name": "Python 3",
   "language": "python",
   "name": "python3"
  },
  "language_info": {
   "codemirror_mode": {
    "name": "ipython",
    "version": 3
   },
   "file_extension": ".py",
   "mimetype": "text/x-python",
   "name": "python",
   "nbconvert_exporter": "python",
   "pygments_lexer": "ipython3",
   "version": "3.7.3"
  }
 },
 "nbformat": 4,
 "nbformat_minor": 4
}
