{
 "cells": [
  {
   "cell_type": "code",
   "execution_count": 1,
   "metadata": {},
   "outputs": [],
   "source": [
    "from skmultilearn.dataset import load_dataset"
   ]
  },
  {
   "cell_type": "code",
   "execution_count": 2,
   "metadata": {},
   "outputs": [
    {
     "name": "stdout",
     "output_type": "stream",
     "text": [
      "emotions:train - exists, not redownloading\n",
      "emotions:test - exists, not redownloading\n"
     ]
    }
   ],
   "source": [
    "X_train, y_train, feature_names, label_names = load_dataset('emotions', 'train')\n",
    "X_test, y_test, _, _ = load_dataset('emotions', 'test')"
   ]
  },
  {
   "cell_type": "code",
   "execution_count": 3,
   "metadata": {},
   "outputs": [
    {
     "data": {
      "text/plain": [
       "<391x72 sparse matrix of type '<class 'numpy.float64'>'\n",
       "\twith 28059 stored elements in LInked List format>"
      ]
     },
     "execution_count": 3,
     "metadata": {},
     "output_type": "execute_result"
    }
   ],
   "source": [
    "X_train"
   ]
  },
  {
   "cell_type": "code",
   "execution_count": 4,
   "metadata": {},
   "outputs": [
    {
     "data": {
      "text/plain": [
       "<391x6 sparse matrix of type '<class 'numpy.int64'>'\n",
       "\twith 709 stored elements in LInked List format>"
      ]
     },
     "execution_count": 4,
     "metadata": {},
     "output_type": "execute_result"
    }
   ],
   "source": [
    "y_train"
   ]
  },
  {
   "cell_type": "code",
   "execution_count": 5,
   "metadata": {},
   "outputs": [
    {
     "data": {
      "text/plain": [
       "[('Mean_Acc1298_Mean_Mem40_Centroid', 'NUMERIC'),\n",
       " ('Mean_Acc1298_Mean_Mem40_Rolloff', 'NUMERIC'),\n",
       " ('Mean_Acc1298_Mean_Mem40_Flux', 'NUMERIC'),\n",
       " ('Mean_Acc1298_Mean_Mem40_MFCC_0', 'NUMERIC'),\n",
       " ('Mean_Acc1298_Mean_Mem40_MFCC_1', 'NUMERIC'),\n",
       " ('Mean_Acc1298_Mean_Mem40_MFCC_2', 'NUMERIC'),\n",
       " ('Mean_Acc1298_Mean_Mem40_MFCC_3', 'NUMERIC'),\n",
       " ('Mean_Acc1298_Mean_Mem40_MFCC_4', 'NUMERIC'),\n",
       " ('Mean_Acc1298_Mean_Mem40_MFCC_5', 'NUMERIC'),\n",
       " ('Mean_Acc1298_Mean_Mem40_MFCC_6', 'NUMERIC'),\n",
       " ('Mean_Acc1298_Mean_Mem40_MFCC_7', 'NUMERIC'),\n",
       " ('Mean_Acc1298_Mean_Mem40_MFCC_8', 'NUMERIC'),\n",
       " ('Mean_Acc1298_Mean_Mem40_MFCC_9', 'NUMERIC'),\n",
       " ('Mean_Acc1298_Mean_Mem40_MFCC_10', 'NUMERIC'),\n",
       " ('Mean_Acc1298_Mean_Mem40_MFCC_11', 'NUMERIC'),\n",
       " ('Mean_Acc1298_Mean_Mem40_MFCC_12', 'NUMERIC'),\n",
       " ('Mean_Acc1298_Std_Mem40_Centroid', 'NUMERIC'),\n",
       " ('Mean_Acc1298_Std_Mem40_Rolloff', 'NUMERIC'),\n",
       " ('Mean_Acc1298_Std_Mem40_Flux', 'NUMERIC'),\n",
       " ('Mean_Acc1298_Std_Mem40_MFCC_0', 'NUMERIC'),\n",
       " ('Mean_Acc1298_Std_Mem40_MFCC_1', 'NUMERIC'),\n",
       " ('Mean_Acc1298_Std_Mem40_MFCC_2', 'NUMERIC'),\n",
       " ('Mean_Acc1298_Std_Mem40_MFCC_3', 'NUMERIC'),\n",
       " ('Mean_Acc1298_Std_Mem40_MFCC_4', 'NUMERIC'),\n",
       " ('Mean_Acc1298_Std_Mem40_MFCC_5', 'NUMERIC'),\n",
       " ('Mean_Acc1298_Std_Mem40_MFCC_6', 'NUMERIC'),\n",
       " ('Mean_Acc1298_Std_Mem40_MFCC_7', 'NUMERIC'),\n",
       " ('Mean_Acc1298_Std_Mem40_MFCC_8', 'NUMERIC'),\n",
       " ('Mean_Acc1298_Std_Mem40_MFCC_9', 'NUMERIC'),\n",
       " ('Mean_Acc1298_Std_Mem40_MFCC_10', 'NUMERIC'),\n",
       " ('Mean_Acc1298_Std_Mem40_MFCC_11', 'NUMERIC'),\n",
       " ('Mean_Acc1298_Std_Mem40_MFCC_12', 'NUMERIC'),\n",
       " ('Std_Acc1298_Mean_Mem40_Centroid', 'NUMERIC'),\n",
       " ('Std_Acc1298_Mean_Mem40_Rolloff', 'NUMERIC'),\n",
       " ('Std_Acc1298_Mean_Mem40_Flux', 'NUMERIC'),\n",
       " ('Std_Acc1298_Mean_Mem40_MFCC_0', 'NUMERIC'),\n",
       " ('Std_Acc1298_Mean_Mem40_MFCC_1', 'NUMERIC'),\n",
       " ('Std_Acc1298_Mean_Mem40_MFCC_2', 'NUMERIC'),\n",
       " ('Std_Acc1298_Mean_Mem40_MFCC_3', 'NUMERIC'),\n",
       " ('Std_Acc1298_Mean_Mem40_MFCC_4', 'NUMERIC'),\n",
       " ('Std_Acc1298_Mean_Mem40_MFCC_5', 'NUMERIC'),\n",
       " ('Std_Acc1298_Mean_Mem40_MFCC_6', 'NUMERIC'),\n",
       " ('Std_Acc1298_Mean_Mem40_MFCC_7', 'NUMERIC'),\n",
       " ('Std_Acc1298_Mean_Mem40_MFCC_8', 'NUMERIC'),\n",
       " ('Std_Acc1298_Mean_Mem40_MFCC_9', 'NUMERIC'),\n",
       " ('Std_Acc1298_Mean_Mem40_MFCC_10', 'NUMERIC'),\n",
       " ('Std_Acc1298_Mean_Mem40_MFCC_11', 'NUMERIC'),\n",
       " ('Std_Acc1298_Mean_Mem40_MFCC_12', 'NUMERIC'),\n",
       " ('Std_Acc1298_Std_Mem40_Centroid', 'NUMERIC'),\n",
       " ('Std_Acc1298_Std_Mem40_Rolloff', 'NUMERIC'),\n",
       " ('Std_Acc1298_Std_Mem40_Flux', 'NUMERIC'),\n",
       " ('Std_Acc1298_Std_Mem40_MFCC_0', 'NUMERIC'),\n",
       " ('Std_Acc1298_Std_Mem40_MFCC_1', 'NUMERIC'),\n",
       " ('Std_Acc1298_Std_Mem40_MFCC_2', 'NUMERIC'),\n",
       " ('Std_Acc1298_Std_Mem40_MFCC_3', 'NUMERIC'),\n",
       " ('Std_Acc1298_Std_Mem40_MFCC_4', 'NUMERIC'),\n",
       " ('Std_Acc1298_Std_Mem40_MFCC_5', 'NUMERIC'),\n",
       " ('Std_Acc1298_Std_Mem40_MFCC_6', 'NUMERIC'),\n",
       " ('Std_Acc1298_Std_Mem40_MFCC_7', 'NUMERIC'),\n",
       " ('Std_Acc1298_Std_Mem40_MFCC_8', 'NUMERIC'),\n",
       " ('Std_Acc1298_Std_Mem40_MFCC_9', 'NUMERIC'),\n",
       " ('Std_Acc1298_Std_Mem40_MFCC_10', 'NUMERIC'),\n",
       " ('Std_Acc1298_Std_Mem40_MFCC_11', 'NUMERIC'),\n",
       " ('Std_Acc1298_Std_Mem40_MFCC_12', 'NUMERIC'),\n",
       " ('BH_LowPeakAmp', 'NUMERIC'),\n",
       " ('BH_LowPeakBPM', 'NUMERIC'),\n",
       " ('BH_HighPeakAmp', 'NUMERIC'),\n",
       " ('BH_HighPeakBPM', 'NUMERIC'),\n",
       " ('BH_HighLowRatio', 'NUMERIC'),\n",
       " ('BHSUM1', 'NUMERIC'),\n",
       " ('BHSUM2', 'NUMERIC'),\n",
       " ('BHSUM3', 'NUMERIC')]"
      ]
     },
     "execution_count": 5,
     "metadata": {},
     "output_type": "execute_result"
    }
   ],
   "source": [
    "feature_names"
   ]
  },
  {
   "cell_type": "code",
   "execution_count": 6,
   "metadata": {},
   "outputs": [
    {
     "data": {
      "text/plain": [
       "[('amazed-suprised', ['0', '1']),\n",
       " ('happy-pleased', ['0', '1']),\n",
       " ('relaxing-calm', ['0', '1']),\n",
       " ('quiet-still', ['0', '1']),\n",
       " ('sad-lonely', ['0', '1']),\n",
       " ('angry-aggresive', ['0', '1'])]"
      ]
     },
     "execution_count": 6,
     "metadata": {},
     "output_type": "execute_result"
    }
   ],
   "source": [
    "label_names"
   ]
  },
  {
   "cell_type": "code",
   "execution_count": 7,
   "metadata": {},
   "outputs": [
    {
     "name": "stderr",
     "output_type": "stream",
     "text": [
      "Using TensorFlow backend.\n"
     ]
    }
   ],
   "source": [
    "from skmultilearn.problem_transform import BinaryRelevance\n",
    "from BinaryRelevanceUnderSampling import BinaryRelevanceUnderSampling\n",
    "from sklearn.svm import SVC"
   ]
  },
  {
   "cell_type": "code",
   "execution_count": 65,
   "metadata": {},
   "outputs": [],
   "source": [
    "clf = BinaryRelevanceUnderSampling(\n",
    "    classifier=SVC(),\n",
    "    require_dense=[False, True]\n",
    ")"
   ]
  },
  {
   "cell_type": "code",
   "execution_count": 66,
   "metadata": {},
   "outputs": [
    {
     "name": "stderr",
     "output_type": "stream",
     "text": [
      "/Users/itn.wildan.dicky/anaconda3/lib/python3.7/site-packages/sklearn/svm/base.py:193: FutureWarning: The default value of gamma will change from 'auto' to 'scale' in version 0.22 to account better for unscaled features. Set gamma explicitly to 'auto' or 'scale' to avoid this warning.\n",
      "  \"avoid this warning.\", FutureWarning)\n",
      "/Users/itn.wildan.dicky/anaconda3/lib/python3.7/site-packages/sklearn/svm/base.py:193: FutureWarning: The default value of gamma will change from 'auto' to 'scale' in version 0.22 to account better for unscaled features. Set gamma explicitly to 'auto' or 'scale' to avoid this warning.\n",
      "  \"avoid this warning.\", FutureWarning)\n",
      "/Users/itn.wildan.dicky/anaconda3/lib/python3.7/site-packages/sklearn/svm/base.py:193: FutureWarning: The default value of gamma will change from 'auto' to 'scale' in version 0.22 to account better for unscaled features. Set gamma explicitly to 'auto' or 'scale' to avoid this warning.\n",
      "  \"avoid this warning.\", FutureWarning)\n",
      "/Users/itn.wildan.dicky/anaconda3/lib/python3.7/site-packages/sklearn/svm/base.py:193: FutureWarning: The default value of gamma will change from 'auto' to 'scale' in version 0.22 to account better for unscaled features. Set gamma explicitly to 'auto' or 'scale' to avoid this warning.\n",
      "  \"avoid this warning.\", FutureWarning)\n",
      "/Users/itn.wildan.dicky/anaconda3/lib/python3.7/site-packages/sklearn/svm/base.py:193: FutureWarning: The default value of gamma will change from 'auto' to 'scale' in version 0.22 to account better for unscaled features. Set gamma explicitly to 'auto' or 'scale' to avoid this warning.\n",
      "  \"avoid this warning.\", FutureWarning)\n",
      "/Users/itn.wildan.dicky/anaconda3/lib/python3.7/site-packages/sklearn/svm/base.py:193: FutureWarning: The default value of gamma will change from 'auto' to 'scale' in version 0.22 to account better for unscaled features. Set gamma explicitly to 'auto' or 'scale' to avoid this warning.\n",
      "  \"avoid this warning.\", FutureWarning)\n"
     ]
    },
    {
     "data": {
      "text/plain": [
       "BinaryRelevanceUnderSampling(classifier=SVC(C=1.0, cache_size=200,\n",
       "                                            class_weight=None, coef0=0.0,\n",
       "                                            decision_function_shape='ovr',\n",
       "                                            degree=3, gamma='auto_deprecated',\n",
       "                                            kernel='rbf', max_iter=-1,\n",
       "                                            probability=False,\n",
       "                                            random_state=None, shrinking=True,\n",
       "                                            tol=0.001, verbose=False),\n",
       "                             require_dense=[False, True])"
      ]
     },
     "execution_count": 66,
     "metadata": {},
     "output_type": "execute_result"
    }
   ],
   "source": [
    "clf.fit(X_train, y_train)"
   ]
  },
  {
   "cell_type": "code",
   "execution_count": 45,
   "metadata": {},
   "outputs": [
    {
     "data": {
      "text/plain": [
       "[SVC(C=1.0, cache_size=200, class_weight=None, coef0=0.0,\n",
       "     decision_function_shape='ovr', degree=3, gamma='auto_deprecated',\n",
       "     kernel='rbf', max_iter=-1, probability=False, random_state=None,\n",
       "     shrinking=True, tol=0.001, verbose=False),\n",
       " SVC(C=1.0, cache_size=200, class_weight=None, coef0=0.0,\n",
       "     decision_function_shape='ovr', degree=3, gamma='auto_deprecated',\n",
       "     kernel='rbf', max_iter=-1, probability=False, random_state=None,\n",
       "     shrinking=True, tol=0.001, verbose=False),\n",
       " SVC(C=1.0, cache_size=200, class_weight=None, coef0=0.0,\n",
       "     decision_function_shape='ovr', degree=3, gamma='auto_deprecated',\n",
       "     kernel='rbf', max_iter=-1, probability=False, random_state=None,\n",
       "     shrinking=True, tol=0.001, verbose=False),\n",
       " SVC(C=1.0, cache_size=200, class_weight=None, coef0=0.0,\n",
       "     decision_function_shape='ovr', degree=3, gamma='auto_deprecated',\n",
       "     kernel='rbf', max_iter=-1, probability=False, random_state=None,\n",
       "     shrinking=True, tol=0.001, verbose=False),\n",
       " SVC(C=1.0, cache_size=200, class_weight=None, coef0=0.0,\n",
       "     decision_function_shape='ovr', degree=3, gamma='auto_deprecated',\n",
       "     kernel='rbf', max_iter=-1, probability=False, random_state=None,\n",
       "     shrinking=True, tol=0.001, verbose=False),\n",
       " SVC(C=1.0, cache_size=200, class_weight=None, coef0=0.0,\n",
       "     decision_function_shape='ovr', degree=3, gamma='auto_deprecated',\n",
       "     kernel='rbf', max_iter=-1, probability=False, random_state=None,\n",
       "     shrinking=True, tol=0.001, verbose=False)]"
      ]
     },
     "execution_count": 45,
     "metadata": {},
     "output_type": "execute_result"
    }
   ],
   "source": [
    "clf.classifiers_"
   ]
  },
  {
   "cell_type": "code",
   "execution_count": 29,
   "metadata": {},
   "outputs": [],
   "source": [
    "prediction = clf.predict(X_test)"
   ]
  },
  {
   "cell_type": "code",
   "execution_count": 30,
   "metadata": {},
   "outputs": [
    {
     "data": {
      "text/plain": [
       "[0, 1, 2, 3, 4, 5]"
      ]
     },
     "execution_count": 30,
     "metadata": {},
     "output_type": "execute_result"
    }
   ],
   "source": [
    "list(range(y_train.shape[1]))"
   ]
  },
  {
   "cell_type": "code",
   "execution_count": 32,
   "metadata": {},
   "outputs": [
    {
     "data": {
      "text/plain": [
       "(391, 6)"
      ]
     },
     "execution_count": 32,
     "metadata": {},
     "output_type": "execute_result"
    }
   ],
   "source": [
    "y_train.shape"
   ]
  },
  {
   "cell_type": "code",
   "execution_count": 33,
   "metadata": {},
   "outputs": [
    {
     "data": {
      "text/plain": [
       "(391, 72)"
      ]
     },
     "execution_count": 33,
     "metadata": {},
     "output_type": "execute_result"
    }
   ],
   "source": [
    "X_train.shape"
   ]
  },
  {
   "cell_type": "code",
   "execution_count": 37,
   "metadata": {},
   "outputs": [
    {
     "data": {
      "text/plain": [
       "matrix([[0, 1, 1, 0, 0, 0],\n",
       "        [1, 0, 0, 0, 0, 1],\n",
       "        [0, 1, 0, 0, 0, 1],\n",
       "        ...,\n",
       "        [0, 1, 1, 0, 0, 0],\n",
       "        [0, 0, 0, 1, 1, 0],\n",
       "        [0, 1, 1, 0, 0, 0]])"
      ]
     },
     "execution_count": 37,
     "metadata": {},
     "output_type": "execute_result"
    }
   ],
   "source": [
    "y_train.todense()"
   ]
  },
  {
   "cell_type": "code",
   "execution_count": null,
   "metadata": {},
   "outputs": [],
   "source": []
  },
  {
   "cell_type": "code",
   "execution_count": 22,
   "metadata": {},
   "outputs": [
    {
     "name": "stdout",
     "output_type": "stream",
     "text": [
      "              precision    recall  f1-score   support\n",
      "\n",
      "           0     1.0000    1.0000    1.0000         3\n",
      "           1     0.6667    1.0000    0.8000         2\n",
      "           2     0.6667    0.6667    0.6667         3\n",
      "\n",
      "   micro avg     0.7778    0.8750    0.8235         8\n",
      "   macro avg     0.7778    0.8889    0.8222         8\n",
      "weighted avg     0.7917    0.8750    0.8250         8\n",
      " samples avg     0.7917    0.8750    0.7833         8\n",
      "\n"
     ]
    }
   ],
   "source": [
    "from sklearn.metrics import classification_report, hamming_loss, f1_score\n",
    "\n",
    "Y = [ [1, 0, 1], [1, 1, 1], [0, 0, 1], [1, 1, 0] ]\n",
    "Z = [ [1, 0, 0], [1, 1, 1], [0, 1, 1], [1, 1, 1] ]\n",
    "print(classification_report(Y, Z, digits=4))"
   ]
  },
  {
   "cell_type": "code",
   "execution_count": 23,
   "metadata": {},
   "outputs": [
    {
     "data": {
      "text/plain": [
       "0.25"
      ]
     },
     "execution_count": 23,
     "metadata": {},
     "output_type": "execute_result"
    }
   ],
   "source": [
    "hamming_loss(Y,Z)"
   ]
  },
  {
   "cell_type": "code",
   "execution_count": 24,
   "metadata": {},
   "outputs": [
    {
     "data": {
      "text/plain": [
       "0.75"
      ]
     },
     "execution_count": 24,
     "metadata": {},
     "output_type": "execute_result"
    }
   ],
   "source": [
    "9/(12)"
   ]
  },
  {
   "cell_type": "code",
   "execution_count": 25,
   "metadata": {},
   "outputs": [
    {
     "data": {
      "text/plain": [
       "0.7777777777777777"
      ]
     },
     "execution_count": 25,
     "metadata": {},
     "output_type": "execute_result"
    }
   ],
   "source": [
    "(1 + (2/3) + (2/3))/3"
   ]
  },
  {
   "cell_type": "code",
   "execution_count": 26,
   "metadata": {},
   "outputs": [
    {
     "data": {
      "text/plain": [
       "0.8888888888888888"
      ]
     },
     "execution_count": 26,
     "metadata": {},
     "output_type": "execute_result"
    }
   ],
   "source": [
    "(1+1+(2/3))/3"
   ]
  },
  {
   "cell_type": "code",
   "execution_count": 28,
   "metadata": {},
   "outputs": [],
   "source": [
    "from sklearn.metrics import confusion_matrix\n",
    "tn, fp, fn, tp = confusion_matrix(Y[0], Z[0]).ravel()"
   ]
  },
  {
   "cell_type": "code",
   "execution_count": 29,
   "metadata": {},
   "outputs": [
    {
     "name": "stdout",
     "output_type": "stream",
     "text": [
      "(1, 0, 1, 1)\n"
     ]
    }
   ],
   "source": [
    "print((tn, fp, fn, tp))"
   ]
  },
  {
   "cell_type": "code",
   "execution_count": null,
   "metadata": {},
   "outputs": [],
   "source": []
  }
 ],
 "metadata": {
  "kernelspec": {
   "display_name": "Python 3",
   "language": "python",
   "name": "python3"
  },
  "language_info": {
   "codemirror_mode": {
    "name": "ipython",
    "version": 3
   },
   "file_extension": ".py",
   "mimetype": "text/x-python",
   "name": "python",
   "nbconvert_exporter": "python",
   "pygments_lexer": "ipython3",
   "version": "3.7.3"
  }
 },
 "nbformat": 4,
 "nbformat_minor": 2
}
