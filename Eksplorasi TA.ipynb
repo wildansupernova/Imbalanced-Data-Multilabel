{
 "cells": [
  {
   "cell_type": "code",
   "execution_count": 38,
   "metadata": {},
   "outputs": [],
   "source": [
    "import pandas as pd\n",
    "import seaborn as sns\n",
    "import matplotlib.pyplot as plt"
   ]
  },
  {
   "cell_type": "code",
   "execution_count": 39,
   "metadata": {},
   "outputs": [
    {
     "name": "stdout",
     "output_type": "stream",
     "text": [
      "(19024, 4)\n"
     ]
    },
    {
     "data": {
      "text/html": [
       "<div>\n",
       "<style scoped>\n",
       "    .dataframe tbody tr th:only-of-type {\n",
       "        vertical-align: middle;\n",
       "    }\n",
       "\n",
       "    .dataframe tbody tr th {\n",
       "        vertical-align: top;\n",
       "    }\n",
       "\n",
       "    .dataframe thead th {\n",
       "        text-align: right;\n",
       "    }\n",
       "</style>\n",
       "<table border=\"1\" class=\"dataframe\">\n",
       "  <thead>\n",
       "    <tr style=\"text-align: right;\">\n",
       "      <th></th>\n",
       "      <th>reviews</th>\n",
       "      <th>category_sentiment</th>\n",
       "      <th>category</th>\n",
       "      <th>sentiment</th>\n",
       "    </tr>\n",
       "  </thead>\n",
       "  <tbody>\n",
       "    <tr>\n",
       "      <th>0</th>\n",
       "      <td>Kotor berdebu. Saya tdk berhenti bersin ketika...</td>\n",
       "      <td>wifi_P1-neg</td>\n",
       "      <td>wifi_P1</td>\n",
       "      <td>neg</td>\n",
       "    </tr>\n",
       "    <tr>\n",
       "      <th>1</th>\n",
       "      <td>Kotor berdebu. Saya tdk berhenti bersin ketika...</td>\n",
       "      <td>kebersihan-neg</td>\n",
       "      <td>kebersihan</td>\n",
       "      <td>neg</td>\n",
       "    </tr>\n",
       "    <tr>\n",
       "      <th>2</th>\n",
       "      <td>kamar ada semutnya. kamar mandi bermasalah. bu...</td>\n",
       "      <td>kebersihan-neg</td>\n",
       "      <td>kebersihan</td>\n",
       "      <td>neg</td>\n",
       "    </tr>\n",
       "    <tr>\n",
       "      <th>3</th>\n",
       "      <td>Kamar mandi bau, airnya bau</td>\n",
       "      <td>bau_P1-neg</td>\n",
       "      <td>bau_P1</td>\n",
       "      <td>neg</td>\n",
       "    </tr>\n",
       "    <tr>\n",
       "      <th>4</th>\n",
       "      <td>tak sesuai espektasi, kamar sempit, pintu kama...</td>\n",
       "      <td>service-neg</td>\n",
       "      <td>service</td>\n",
       "      <td>neg</td>\n",
       "    </tr>\n",
       "  </tbody>\n",
       "</table>\n",
       "</div>"
      ],
      "text/plain": [
       "                                             reviews category_sentiment  \\\n",
       "0  Kotor berdebu. Saya tdk berhenti bersin ketika...        wifi_P1-neg   \n",
       "1  Kotor berdebu. Saya tdk berhenti bersin ketika...     kebersihan-neg   \n",
       "2  kamar ada semutnya. kamar mandi bermasalah. bu...     kebersihan-neg   \n",
       "3                        Kamar mandi bau, airnya bau         bau_P1-neg   \n",
       "4  tak sesuai espektasi, kamar sempit, pintu kama...        service-neg   \n",
       "\n",
       "     category sentiment  \n",
       "0     wifi_P1       neg  \n",
       "1  kebersihan       neg  \n",
       "2  kebersihan       neg  \n",
       "3      bau_P1       neg  \n",
       "4     service       neg  "
      ]
     },
     "execution_count": 39,
     "metadata": {},
     "output_type": "execute_result"
    }
   ],
   "source": [
    "df = pd.read_csv('data/kategorisasi-aspek/priority_10k_labelled.csv')\n",
    "df_test = pd.read_csv('data/kategorisasi-aspek/test.csv')\n",
    "print(df.shape)\n",
    "df.head()"
   ]
  },
  {
   "cell_type": "code",
   "execution_count": 40,
   "metadata": {},
   "outputs": [
    {
     "data": {
      "text/html": [
       "<div>\n",
       "<style scoped>\n",
       "    .dataframe tbody tr th:only-of-type {\n",
       "        vertical-align: middle;\n",
       "    }\n",
       "\n",
       "    .dataframe tbody tr th {\n",
       "        vertical-align: top;\n",
       "    }\n",
       "\n",
       "    .dataframe thead th {\n",
       "        text-align: right;\n",
       "    }\n",
       "</style>\n",
       "<table border=\"1\" class=\"dataframe\">\n",
       "  <thead>\n",
       "    <tr style=\"text-align: right;\">\n",
       "      <th></th>\n",
       "      <th>reviews</th>\n",
       "      <th>category_sentiment</th>\n",
       "      <th>category</th>\n",
       "      <th>sentiment</th>\n",
       "    </tr>\n",
       "  </thead>\n",
       "  <tbody>\n",
       "    <tr>\n",
       "      <th>count</th>\n",
       "      <td>19024</td>\n",
       "      <td>19024</td>\n",
       "      <td>18476</td>\n",
       "      <td>19024</td>\n",
       "    </tr>\n",
       "    <tr>\n",
       "      <th>unique</th>\n",
       "      <td>9827</td>\n",
       "      <td>21</td>\n",
       "      <td>10</td>\n",
       "      <td>3</td>\n",
       "    </tr>\n",
       "    <tr>\n",
       "      <th>top</th>\n",
       "      <td>#NAME?</td>\n",
       "      <td>kebersihan-neg</td>\n",
       "      <td>kebersihan</td>\n",
       "      <td>neg</td>\n",
       "    </tr>\n",
       "    <tr>\n",
       "      <th>freq</th>\n",
       "      <td>39</td>\n",
       "      <td>3093</td>\n",
       "      <td>4006</td>\n",
       "      <td>14555</td>\n",
       "    </tr>\n",
       "  </tbody>\n",
       "</table>\n",
       "</div>"
      ],
      "text/plain": [
       "       reviews category_sentiment    category sentiment\n",
       "count    19024              19024       18476     19024\n",
       "unique    9827                 21          10         3\n",
       "top     #NAME?     kebersihan-neg  kebersihan       neg\n",
       "freq        39               3093        4006     14555"
      ]
     },
     "execution_count": 40,
     "metadata": {},
     "output_type": "execute_result"
    }
   ],
   "source": [
    "df.describe()"
   ]
  },
  {
   "cell_type": "code",
   "execution_count": 41,
   "metadata": {},
   "outputs": [
    {
     "data": {
      "text/html": [
       "<div>\n",
       "<style scoped>\n",
       "    .dataframe tbody tr th:only-of-type {\n",
       "        vertical-align: middle;\n",
       "    }\n",
       "\n",
       "    .dataframe tbody tr th {\n",
       "        vertical-align: top;\n",
       "    }\n",
       "\n",
       "    .dataframe thead th {\n",
       "        text-align: right;\n",
       "    }\n",
       "</style>\n",
       "<table border=\"1\" class=\"dataframe\">\n",
       "  <thead>\n",
       "    <tr style=\"text-align: right;\">\n",
       "      <th></th>\n",
       "      <th>reviews</th>\n",
       "      <th>category</th>\n",
       "    </tr>\n",
       "  </thead>\n",
       "  <tbody>\n",
       "    <tr>\n",
       "      <th>count</th>\n",
       "      <td>18224</td>\n",
       "      <td>18224</td>\n",
       "    </tr>\n",
       "    <tr>\n",
       "      <th>unique</th>\n",
       "      <td>9284</td>\n",
       "      <td>10</td>\n",
       "    </tr>\n",
       "    <tr>\n",
       "      <th>top</th>\n",
       "      <td>#NAME?</td>\n",
       "      <td>kebersihan</td>\n",
       "    </tr>\n",
       "    <tr>\n",
       "      <th>freq</th>\n",
       "      <td>10</td>\n",
       "      <td>3926</td>\n",
       "    </tr>\n",
       "  </tbody>\n",
       "</table>\n",
       "</div>"
      ],
      "text/plain": [
       "       reviews    category\n",
       "count    18224       18224\n",
       "unique    9284          10\n",
       "top     #NAME?  kebersihan\n",
       "freq        10        3926"
      ]
     },
     "execution_count": 41,
     "metadata": {},
     "output_type": "execute_result"
    }
   ],
   "source": [
    "a = df[df.sentiment != 'ignored']\n",
    "a[['reviews', 'category']].drop_duplicates().describe()"
   ]
  },
  {
   "cell_type": "code",
   "execution_count": 28,
   "metadata": {},
   "outputs": [
    {
     "name": "stdout",
     "output_type": "stream",
     "text": [
      "(996, 4)\n"
     ]
    },
    {
     "data": {
      "text/html": [
       "<div>\n",
       "<style scoped>\n",
       "    .dataframe tbody tr th:only-of-type {\n",
       "        vertical-align: middle;\n",
       "    }\n",
       "\n",
       "    .dataframe tbody tr th {\n",
       "        vertical-align: top;\n",
       "    }\n",
       "\n",
       "    .dataframe thead th {\n",
       "        text-align: right;\n",
       "    }\n",
       "</style>\n",
       "<table border=\"1\" class=\"dataframe\">\n",
       "  <thead>\n",
       "    <tr style=\"text-align: right;\">\n",
       "      <th></th>\n",
       "      <th>review</th>\n",
       "      <th>category_sentiment</th>\n",
       "      <th>category</th>\n",
       "      <th>sentiment</th>\n",
       "    </tr>\n",
       "  </thead>\n",
       "  <tbody>\n",
       "    <tr>\n",
       "      <th>0</th>\n",
       "      <td>Pelayanannya memuaskan, dan sangat ramah, kama...</td>\n",
       "      <td>service-pos</td>\n",
       "      <td>service</td>\n",
       "      <td>pos</td>\n",
       "    </tr>\n",
       "    <tr>\n",
       "      <th>1</th>\n",
       "      <td>Pelayanannya memuaskan, dan sangat ramah, kama...</td>\n",
       "      <td>linen_P1-pos</td>\n",
       "      <td>linen_P1</td>\n",
       "      <td>pos</td>\n",
       "    </tr>\n",
       "    <tr>\n",
       "      <th>2</th>\n",
       "      <td>Pelayanannya memuaskan, dan sangat ramah, kama...</td>\n",
       "      <td>kebersihan-pos</td>\n",
       "      <td>kebersihan</td>\n",
       "      <td>pos</td>\n",
       "    </tr>\n",
       "    <tr>\n",
       "      <th>3</th>\n",
       "      <td>Pelayanannya memuaskan, dan sangat ramah, kama...</td>\n",
       "      <td>wifi_P1-neg</td>\n",
       "      <td>wifi_P1</td>\n",
       "      <td>neg</td>\n",
       "    </tr>\n",
       "    <tr>\n",
       "      <th>4</th>\n",
       "      <td>hanya AC nya saja yang agak berisik, pelayanan...</td>\n",
       "      <td>service-pos</td>\n",
       "      <td>service</td>\n",
       "      <td>pos</td>\n",
       "    </tr>\n",
       "  </tbody>\n",
       "</table>\n",
       "</div>"
      ],
      "text/plain": [
       "                                              review category_sentiment  \\\n",
       "0  Pelayanannya memuaskan, dan sangat ramah, kama...        service-pos   \n",
       "1  Pelayanannya memuaskan, dan sangat ramah, kama...       linen_P1-pos   \n",
       "2  Pelayanannya memuaskan, dan sangat ramah, kama...     kebersihan-pos   \n",
       "3  Pelayanannya memuaskan, dan sangat ramah, kama...        wifi_P1-neg   \n",
       "4  hanya AC nya saja yang agak berisik, pelayanan...        service-pos   \n",
       "\n",
       "     category sentiment  \n",
       "0     service       pos  \n",
       "1    linen_P1       pos  \n",
       "2  kebersihan       pos  \n",
       "3     wifi_P1       neg  \n",
       "4     service       pos  "
      ]
     },
     "execution_count": 28,
     "metadata": {},
     "output_type": "execute_result"
    }
   ],
   "source": [
    "print(df_test.shape)\n",
    "df_test.head()"
   ]
  },
  {
   "cell_type": "markdown",
   "metadata": {},
   "source": [
    "## EDA"
   ]
  },
  {
   "cell_type": "code",
   "execution_count": 4,
   "metadata": {},
   "outputs": [
    {
     "name": "stdout",
     "output_type": "stream",
     "text": [
      "Bentuk data awal :  (19024, 4)\n",
      "Jumlah data duplicate:  (238, 4)\n",
      "There is duplicate data\n"
     ]
    }
   ],
   "source": [
    "print(\"Bentuk data awal : \",df.shape)\n",
    "print(\"Jumlah data duplicate: \", df[df.duplicated()].shape)\n",
    "print(\"There is duplicate data\") if df[df.duplicated()].shape[0] - df.shape[0] != 0 else print(\"No duplicate data\")"
   ]
  },
  {
   "cell_type": "markdown",
   "metadata": {},
   "source": [
    "### Check number of nan"
   ]
  },
  {
   "cell_type": "code",
   "execution_count": 5,
   "metadata": {},
   "outputs": [
    {
     "data": {
      "text/plain": [
       "reviews                 0\n",
       "category_sentiment      0\n",
       "category              548\n",
       "sentiment               0\n",
       "dtype: int64"
      ]
     },
     "execution_count": 5,
     "metadata": {},
     "output_type": "execute_result"
    }
   ],
   "source": [
    "df.isnull().sum()"
   ]
  },
  {
   "cell_type": "code",
   "execution_count": 6,
   "metadata": {},
   "outputs": [
    {
     "name": "stdout",
     "output_type": "stream",
     "text": [
      "(548, 4)\n"
     ]
    },
    {
     "data": {
      "text/html": [
       "<div>\n",
       "<style scoped>\n",
       "    .dataframe tbody tr th:only-of-type {\n",
       "        vertical-align: middle;\n",
       "    }\n",
       "\n",
       "    .dataframe tbody tr th {\n",
       "        vertical-align: top;\n",
       "    }\n",
       "\n",
       "    .dataframe thead th {\n",
       "        text-align: right;\n",
       "    }\n",
       "</style>\n",
       "<table border=\"1\" class=\"dataframe\">\n",
       "  <thead>\n",
       "    <tr style=\"text-align: right;\">\n",
       "      <th></th>\n",
       "      <th>reviews</th>\n",
       "      <th>category_sentiment</th>\n",
       "      <th>category</th>\n",
       "      <th>sentiment</th>\n",
       "    </tr>\n",
       "  </thead>\n",
       "  <tbody>\n",
       "    <tr>\n",
       "      <th>46</th>\n",
       "      <td>The TV should be upgrade, and also the toileta...</td>\n",
       "      <td>-ignored-</td>\n",
       "      <td>NaN</td>\n",
       "      <td>ignored</td>\n",
       "    </tr>\n",
       "    <tr>\n",
       "      <th>51</th>\n",
       "      <td>better find another hotel.. unless you just wa...</td>\n",
       "      <td>-ignored-</td>\n",
       "      <td>NaN</td>\n",
       "      <td>ignored</td>\n",
       "    </tr>\n",
       "    <tr>\n",
       "      <th>86</th>\n",
       "      <td>I arrived very late due to long delayed. It wa...</td>\n",
       "      <td>-ignored-</td>\n",
       "      <td>NaN</td>\n",
       "      <td>ignored</td>\n",
       "    </tr>\n",
       "    <tr>\n",
       "      <th>90</th>\n",
       "      <td>Dirty toilet, unhelpful staff, towel never cha...</td>\n",
       "      <td>-ignored-</td>\n",
       "      <td>NaN</td>\n",
       "      <td>ignored</td>\n",
       "    </tr>\n",
       "    <tr>\n",
       "      <th>215</th>\n",
       "      <td>Kamarnya butuh perbaikan.. dinding kamar dan p...</td>\n",
       "      <td>-ignored-</td>\n",
       "      <td>NaN</td>\n",
       "      <td>ignored</td>\n",
       "    </tr>\n",
       "    <tr>\n",
       "      <th>323</th>\n",
       "      <td>Overall staying in this hotel is great just on...</td>\n",
       "      <td>-ignored-</td>\n",
       "      <td>NaN</td>\n",
       "      <td>ignored</td>\n",
       "    </tr>\n",
       "    <tr>\n",
       "      <th>331</th>\n",
       "      <td>Bath room not shine up soap leaking; brown wat...</td>\n",
       "      <td>-ignored-</td>\n",
       "      <td>NaN</td>\n",
       "      <td>ignored</td>\n",
       "    </tr>\n",
       "    <tr>\n",
       "      <th>346</th>\n",
       "      <td>Low quality of Wi-Fi. Clean bedroom. Bathroom ...</td>\n",
       "      <td>-ignored-</td>\n",
       "      <td>NaN</td>\n",
       "      <td>ignored</td>\n",
       "    </tr>\n",
       "    <tr>\n",
       "      <th>379</th>\n",
       "      <td>Cannot connect to wifi, they provides kitchen ...</td>\n",
       "      <td>-ignored-</td>\n",
       "      <td>NaN</td>\n",
       "      <td>ignored</td>\n",
       "    </tr>\n",
       "    <tr>\n",
       "      <th>465</th>\n",
       "      <td>The air conditioner is not working and the roo...</td>\n",
       "      <td>-ignored-</td>\n",
       "      <td>NaN</td>\n",
       "      <td>ignored</td>\n",
       "    </tr>\n",
       "    <tr>\n",
       "      <th>650</th>\n",
       "      <td>Such a nice room, but please keep up the room ...</td>\n",
       "      <td>-ignored-</td>\n",
       "      <td>NaN</td>\n",
       "      <td>ignored</td>\n",
       "    </tr>\n",
       "    <tr>\n",
       "      <th>653</th>\n",
       "      <td>Somewhat shabby place. Bed was dirty, had bloo...</td>\n",
       "      <td>-ignored-</td>\n",
       "      <td>NaN</td>\n",
       "      <td>ignored</td>\n",
       "    </tr>\n",
       "    <tr>\n",
       "      <th>767</th>\n",
       "      <td>the wifi can not be used. the towel is so smal...</td>\n",
       "      <td>-ignored-</td>\n",
       "      <td>NaN</td>\n",
       "      <td>ignored</td>\n",
       "    </tr>\n",
       "    <tr>\n",
       "      <th>792</th>\n",
       "      <td>Late checkIn, im waiting more than 30mnt Float...</td>\n",
       "      <td>-ignored-</td>\n",
       "      <td>NaN</td>\n",
       "      <td>ignored</td>\n",
       "    </tr>\n",
       "    <tr>\n",
       "      <th>814</th>\n",
       "      <td>i was trying to use swimming pool,but its so d...</td>\n",
       "      <td>-ignored-</td>\n",
       "      <td>NaN</td>\n",
       "      <td>ignored</td>\n",
       "    </tr>\n",
       "    <tr>\n",
       "      <th>966</th>\n",
       "      <td>not bad at all but they don't have water heate...</td>\n",
       "      <td>-ignored-</td>\n",
       "      <td>NaN</td>\n",
       "      <td>ignored</td>\n",
       "    </tr>\n",
       "    <tr>\n",
       "      <th>1295</th>\n",
       "      <td>this place is not worth to be called as a hote...</td>\n",
       "      <td>-ignored-</td>\n",
       "      <td>NaN</td>\n",
       "      <td>ignored</td>\n",
       "    </tr>\n",
       "    <tr>\n",
       "      <th>1372</th>\n",
       "      <td>Nice staff, clean room, towel, variety channel...</td>\n",
       "      <td>-ignored-</td>\n",
       "      <td>NaN</td>\n",
       "      <td>ignored</td>\n",
       "    </tr>\n",
       "    <tr>\n",
       "      <th>1391</th>\n",
       "      <td>Kamar mandi perlu ditingkatkan lagi, showernya...</td>\n",
       "      <td>-ignored-</td>\n",
       "      <td>NaN</td>\n",
       "      <td>ignored</td>\n",
       "    </tr>\n",
       "    <tr>\n",
       "      <th>1413</th>\n",
       "      <td>Good hotel.. only wifi need to be improve...</td>\n",
       "      <td>-ignored-</td>\n",
       "      <td>NaN</td>\n",
       "      <td>ignored</td>\n",
       "    </tr>\n",
       "    <tr>\n",
       "      <th>1462</th>\n",
       "      <td>Room smell very bad and also the pillow case. ...</td>\n",
       "      <td>-ignored-</td>\n",
       "      <td>NaN</td>\n",
       "      <td>ignored</td>\n",
       "    </tr>\n",
       "    <tr>\n",
       "      <th>1876</th>\n",
       "      <td>bad signal L1 dan L2</td>\n",
       "      <td>-ignored-</td>\n",
       "      <td>NaN</td>\n",
       "      <td>ignored</td>\n",
       "    </tr>\n",
       "    <tr>\n",
       "      <th>2015</th>\n",
       "      <td>It looks exactly like the photo. Its very nice...</td>\n",
       "      <td>-ignored-</td>\n",
       "      <td>NaN</td>\n",
       "      <td>ignored</td>\n",
       "    </tr>\n",
       "    <tr>\n",
       "      <th>2123</th>\n",
       "      <td>the hotel is clean, but wifi very bad, i can n...</td>\n",
       "      <td>-ignored-</td>\n",
       "      <td>NaN</td>\n",
       "      <td>ignored</td>\n",
       "    </tr>\n",
       "    <tr>\n",
       "      <th>2135</th>\n",
       "      <td>the place is nice, the room is small. the bath...</td>\n",
       "      <td>-ignored-</td>\n",
       "      <td>NaN</td>\n",
       "      <td>ignored</td>\n",
       "    </tr>\n",
       "    <tr>\n",
       "      <th>2140</th>\n",
       "      <td>Over all this place is nice and warm atmospher...</td>\n",
       "      <td>-ignored-</td>\n",
       "      <td>NaN</td>\n",
       "      <td>ignored</td>\n",
       "    </tr>\n",
       "    <tr>\n",
       "      <th>2279</th>\n",
       "      <td>he service is rather long, for the guard, mayb...</td>\n",
       "      <td>-ignored-</td>\n",
       "      <td>NaN</td>\n",
       "      <td>ignored</td>\n",
       "    </tr>\n",
       "    <tr>\n",
       "      <th>2286</th>\n",
       "      <td>The room smell bad &amp; hotel not clean enough</td>\n",
       "      <td>-ignored-</td>\n",
       "      <td>NaN</td>\n",
       "      <td>ignored</td>\n",
       "    </tr>\n",
       "    <tr>\n",
       "      <th>2345</th>\n",
       "      <td>front desk, fasilitas kamar</td>\n",
       "      <td>-ignored-</td>\n",
       "      <td>NaN</td>\n",
       "      <td>ignored</td>\n",
       "    </tr>\n",
       "    <tr>\n",
       "      <th>2394</th>\n",
       "      <td>Good place, little bad at meals.</td>\n",
       "      <td>-ignored-</td>\n",
       "      <td>NaN</td>\n",
       "      <td>ignored</td>\n",
       "    </tr>\n",
       "    <tr>\n",
       "      <th>...</th>\n",
       "      <td>...</td>\n",
       "      <td>...</td>\n",
       "      <td>...</td>\n",
       "      <td>...</td>\n",
       "    </tr>\n",
       "    <tr>\n",
       "      <th>17717</th>\n",
       "      <td>The location not so far from the airport, the ...</td>\n",
       "      <td>-ignored-</td>\n",
       "      <td>NaN</td>\n",
       "      <td>ignored</td>\n",
       "    </tr>\n",
       "    <tr>\n",
       "      <th>17777</th>\n",
       "      <td>\"kamar lumayan nyaman sekelas budget hotel</td>\n",
       "      <td>-ignored-</td>\n",
       "      <td>NaN</td>\n",
       "      <td>ignored</td>\n",
       "    </tr>\n",
       "    <tr>\n",
       "      <th>17860</th>\n",
       "      <td>seharusnya di terangkan di deskripsi di dalam ...</td>\n",
       "      <td>-ignored-</td>\n",
       "      <td>NaN</td>\n",
       "      <td>ignored</td>\n",
       "    </tr>\n",
       "    <tr>\n",
       "      <th>17884</th>\n",
       "      <td>Completely no signal inside the room. I should...</td>\n",
       "      <td>-ignored-</td>\n",
       "      <td>NaN</td>\n",
       "      <td>ignored</td>\n",
       "    </tr>\n",
       "    <tr>\n",
       "      <th>17885</th>\n",
       "      <td>Hari pertama sy check in diberi kamar 221. Dal...</td>\n",
       "      <td>-ignored-</td>\n",
       "      <td>NaN</td>\n",
       "      <td>ignored</td>\n",
       "    </tr>\n",
       "    <tr>\n",
       "      <th>17953</th>\n",
       "      <td>Kamar mandi jelek banget, termasuk mahal fasil...</td>\n",
       "      <td>-ignored-</td>\n",
       "      <td>NaN</td>\n",
       "      <td>ignored</td>\n",
       "    </tr>\n",
       "    <tr>\n",
       "      <th>18016</th>\n",
       "      <td>Wifi dan</td>\n",
       "      <td>-ignored-</td>\n",
       "      <td>NaN</td>\n",
       "      <td>ignored</td>\n",
       "    </tr>\n",
       "    <tr>\n",
       "      <th>18054</th>\n",
       "      <td>Everything is good, only wifi need to be improve</td>\n",
       "      <td>-ignored-</td>\n",
       "      <td>NaN</td>\n",
       "      <td>ignored</td>\n",
       "    </tr>\n",
       "    <tr>\n",
       "      <th>18086</th>\n",
       "      <td>luas...nyaman..tp toilet kurang terawat..</td>\n",
       "      <td>-ignored-</td>\n",
       "      <td>NaN</td>\n",
       "      <td>ignored</td>\n",
       "    </tr>\n",
       "    <tr>\n",
       "      <th>18205</th>\n",
       "      <td>It was great place and time to stay there actu...</td>\n",
       "      <td>-ignored-</td>\n",
       "      <td>NaN</td>\n",
       "      <td>ignored</td>\n",
       "    </tr>\n",
       "    <tr>\n",
       "      <th>18299</th>\n",
       "      <td>The room is humid and smells so bad. Water sti...</td>\n",
       "      <td>-ignored-</td>\n",
       "      <td>NaN</td>\n",
       "      <td>ignored</td>\n",
       "    </tr>\n",
       "    <tr>\n",
       "      <th>18360</th>\n",
       "      <td>Price wise is good for a backpacker, if you ca...</td>\n",
       "      <td>-ignored-</td>\n",
       "      <td>NaN</td>\n",
       "      <td>ignored</td>\n",
       "    </tr>\n",
       "    <tr>\n",
       "      <th>18393</th>\n",
       "      <td>Good location with comparable price and facili...</td>\n",
       "      <td>-ignored-</td>\n",
       "      <td>NaN</td>\n",
       "      <td>ignored</td>\n",
       "    </tr>\n",
       "    <tr>\n",
       "      <th>18433</th>\n",
       "      <td>Nice place to stay. If you are backpacker, thi...</td>\n",
       "      <td>-ignored-</td>\n",
       "      <td>NaN</td>\n",
       "      <td>ignored</td>\n",
       "    </tr>\n",
       "    <tr>\n",
       "      <th>18455</th>\n",
       "      <td>Room cleanless</td>\n",
       "      <td>-ignored-</td>\n",
       "      <td>NaN</td>\n",
       "      <td>ignored</td>\n",
       "    </tr>\n",
       "    <tr>\n",
       "      <th>18569</th>\n",
       "      <td>The advantage of staying here is its good loca...</td>\n",
       "      <td>-ignored-</td>\n",
       "      <td>NaN</td>\n",
       "      <td>ignored</td>\n",
       "    </tr>\n",
       "    <tr>\n",
       "      <th>18579</th>\n",
       "      <td>Disambut dengan genangan air berwarna biru di ...</td>\n",
       "      <td>-ignored-</td>\n",
       "      <td>NaN</td>\n",
       "      <td>ignored</td>\n",
       "    </tr>\n",
       "    <tr>\n",
       "      <th>18581</th>\n",
       "      <td>too much mosquitos in the room, some furniture...</td>\n",
       "      <td>-ignored-</td>\n",
       "      <td>NaN</td>\n",
       "      <td>ignored</td>\n",
       "    </tr>\n",
       "    <tr>\n",
       "      <th>18585</th>\n",
       "      <td>lokasi yg strategis membantu ketempat tujuan d...</td>\n",
       "      <td>-ignored-</td>\n",
       "      <td>NaN</td>\n",
       "      <td>ignored</td>\n",
       "    </tr>\n",
       "    <tr>\n",
       "      <th>18615</th>\n",
       "      <td>Toilet butuh diperhatikan, shower berkarat jad...</td>\n",
       "      <td>-ignored-</td>\n",
       "      <td>NaN</td>\n",
       "      <td>ignored</td>\n",
       "    </tr>\n",
       "    <tr>\n",
       "      <th>18648</th>\n",
       "      <td>the bed is a lot of fine silky hair and the ba...</td>\n",
       "      <td>-ignored-</td>\n",
       "      <td>NaN</td>\n",
       "      <td>ignored</td>\n",
       "    </tr>\n",
       "    <tr>\n",
       "      <th>18663</th>\n",
       "      <td>the room was not comfortable, Air-conditioning...</td>\n",
       "      <td>-ignored-</td>\n",
       "      <td>NaN</td>\n",
       "      <td>ignored</td>\n",
       "    </tr>\n",
       "    <tr>\n",
       "      <th>18668</th>\n",
       "      <td>Bad: A lot of mosquitoes in the room, the tele...</td>\n",
       "      <td>-ignored-</td>\n",
       "      <td>NaN</td>\n",
       "      <td>ignored</td>\n",
       "    </tr>\n",
       "    <tr>\n",
       "      <th>18718</th>\n",
       "      <td>in website written include breakfast but the f...</td>\n",
       "      <td>-ignored-</td>\n",
       "      <td>NaN</td>\n",
       "      <td>ignored</td>\n",
       "    </tr>\n",
       "    <tr>\n",
       "      <th>18751</th>\n",
       "      <td>Good for travelling, low fare, but bath room n...</td>\n",
       "      <td>-ignored-</td>\n",
       "      <td>NaN</td>\n",
       "      <td>ignored</td>\n",
       "    </tr>\n",
       "    <tr>\n",
       "      <th>18766</th>\n",
       "      <td>The worst hotel i’ve ever stayed. There were n...</td>\n",
       "      <td>-ignored-</td>\n",
       "      <td>NaN</td>\n",
       "      <td>ignored</td>\n",
       "    </tr>\n",
       "    <tr>\n",
       "      <th>18783</th>\n",
       "      <td>The air-condition is not working at all, i wil...</td>\n",
       "      <td>-ignored-</td>\n",
       "      <td>NaN</td>\n",
       "      <td>ignored</td>\n",
       "    </tr>\n",
       "    <tr>\n",
       "      <th>18823</th>\n",
       "      <td>This place is perfect for bacpacker or low bud...</td>\n",
       "      <td>-ignored-</td>\n",
       "      <td>NaN</td>\n",
       "      <td>ignored</td>\n",
       "    </tr>\n",
       "    <tr>\n",
       "      <th>18921</th>\n",
       "      <td>Room &amp; bed : less cleanness, small but its ok ...</td>\n",
       "      <td>-ignored-</td>\n",
       "      <td>NaN</td>\n",
       "      <td>ignored</td>\n",
       "    </tr>\n",
       "    <tr>\n",
       "      <th>18992</th>\n",
       "      <td>Kamarnya luas. Bersih. Hanya untuk tempat samp...</td>\n",
       "      <td>-ignored-</td>\n",
       "      <td>NaN</td>\n",
       "      <td>ignored</td>\n",
       "    </tr>\n",
       "  </tbody>\n",
       "</table>\n",
       "<p>548 rows × 4 columns</p>\n",
       "</div>"
      ],
      "text/plain": [
       "                                                 reviews category_sentiment  \\\n",
       "46     The TV should be upgrade, and also the toileta...          -ignored-   \n",
       "51     better find another hotel.. unless you just wa...          -ignored-   \n",
       "86     I arrived very late due to long delayed. It wa...          -ignored-   \n",
       "90     Dirty toilet, unhelpful staff, towel never cha...          -ignored-   \n",
       "215    Kamarnya butuh perbaikan.. dinding kamar dan p...          -ignored-   \n",
       "323    Overall staying in this hotel is great just on...          -ignored-   \n",
       "331    Bath room not shine up soap leaking; brown wat...          -ignored-   \n",
       "346    Low quality of Wi-Fi. Clean bedroom. Bathroom ...          -ignored-   \n",
       "379    Cannot connect to wifi, they provides kitchen ...          -ignored-   \n",
       "465    The air conditioner is not working and the roo...          -ignored-   \n",
       "650    Such a nice room, but please keep up the room ...          -ignored-   \n",
       "653    Somewhat shabby place. Bed was dirty, had bloo...          -ignored-   \n",
       "767    the wifi can not be used. the towel is so smal...          -ignored-   \n",
       "792    Late checkIn, im waiting more than 30mnt Float...          -ignored-   \n",
       "814    i was trying to use swimming pool,but its so d...          -ignored-   \n",
       "966    not bad at all but they don't have water heate...          -ignored-   \n",
       "1295   this place is not worth to be called as a hote...          -ignored-   \n",
       "1372   Nice staff, clean room, towel, variety channel...          -ignored-   \n",
       "1391   Kamar mandi perlu ditingkatkan lagi, showernya...          -ignored-   \n",
       "1413       Good hotel.. only wifi need to be improve...           -ignored-   \n",
       "1462   Room smell very bad and also the pillow case. ...          -ignored-   \n",
       "1876                                bad signal L1 dan L2          -ignored-   \n",
       "2015   It looks exactly like the photo. Its very nice...          -ignored-   \n",
       "2123   the hotel is clean, but wifi very bad, i can n...          -ignored-   \n",
       "2135   the place is nice, the room is small. the bath...          -ignored-   \n",
       "2140   Over all this place is nice and warm atmospher...          -ignored-   \n",
       "2279   he service is rather long, for the guard, mayb...          -ignored-   \n",
       "2286         The room smell bad & hotel not clean enough          -ignored-   \n",
       "2345                         front desk, fasilitas kamar          -ignored-   \n",
       "2394                    Good place, little bad at meals.          -ignored-   \n",
       "...                                                  ...                ...   \n",
       "17717  The location not so far from the airport, the ...          -ignored-   \n",
       "17777         \"kamar lumayan nyaman sekelas budget hotel          -ignored-   \n",
       "17860  seharusnya di terangkan di deskripsi di dalam ...          -ignored-   \n",
       "17884  Completely no signal inside the room. I should...          -ignored-   \n",
       "17885  Hari pertama sy check in diberi kamar 221. Dal...          -ignored-   \n",
       "17953  Kamar mandi jelek banget, termasuk mahal fasil...          -ignored-   \n",
       "18016                                           Wifi dan          -ignored-   \n",
       "18054   Everything is good, only wifi need to be improve          -ignored-   \n",
       "18086          luas...nyaman..tp toilet kurang terawat..          -ignored-   \n",
       "18205  It was great place and time to stay there actu...          -ignored-   \n",
       "18299  The room is humid and smells so bad. Water sti...          -ignored-   \n",
       "18360  Price wise is good for a backpacker, if you ca...          -ignored-   \n",
       "18393  Good location with comparable price and facili...          -ignored-   \n",
       "18433  Nice place to stay. If you are backpacker, thi...          -ignored-   \n",
       "18455                                     Room cleanless          -ignored-   \n",
       "18569  The advantage of staying here is its good loca...          -ignored-   \n",
       "18579  Disambut dengan genangan air berwarna biru di ...          -ignored-   \n",
       "18581  too much mosquitos in the room, some furniture...          -ignored-   \n",
       "18585  lokasi yg strategis membantu ketempat tujuan d...          -ignored-   \n",
       "18615  Toilet butuh diperhatikan, shower berkarat jad...          -ignored-   \n",
       "18648  the bed is a lot of fine silky hair and the ba...          -ignored-   \n",
       "18663  the room was not comfortable, Air-conditioning...          -ignored-   \n",
       "18668  Bad: A lot of mosquitoes in the room, the tele...          -ignored-   \n",
       "18718  in website written include breakfast but the f...          -ignored-   \n",
       "18751  Good for travelling, low fare, but bath room n...          -ignored-   \n",
       "18766  The worst hotel i’ve ever stayed. There were n...          -ignored-   \n",
       "18783  The air-condition is not working at all, i wil...          -ignored-   \n",
       "18823  This place is perfect for bacpacker or low bud...          -ignored-   \n",
       "18921  Room & bed : less cleanness, small but its ok ...          -ignored-   \n",
       "18992  Kamarnya luas. Bersih. Hanya untuk tempat samp...          -ignored-   \n",
       "\n",
       "      category sentiment  \n",
       "46         NaN   ignored  \n",
       "51         NaN   ignored  \n",
       "86         NaN   ignored  \n",
       "90         NaN   ignored  \n",
       "215        NaN   ignored  \n",
       "323        NaN   ignored  \n",
       "331        NaN   ignored  \n",
       "346        NaN   ignored  \n",
       "379        NaN   ignored  \n",
       "465        NaN   ignored  \n",
       "650        NaN   ignored  \n",
       "653        NaN   ignored  \n",
       "767        NaN   ignored  \n",
       "792        NaN   ignored  \n",
       "814        NaN   ignored  \n",
       "966        NaN   ignored  \n",
       "1295       NaN   ignored  \n",
       "1372       NaN   ignored  \n",
       "1391       NaN   ignored  \n",
       "1413       NaN   ignored  \n",
       "1462       NaN   ignored  \n",
       "1876       NaN   ignored  \n",
       "2015       NaN   ignored  \n",
       "2123       NaN   ignored  \n",
       "2135       NaN   ignored  \n",
       "2140       NaN   ignored  \n",
       "2279       NaN   ignored  \n",
       "2286       NaN   ignored  \n",
       "2345       NaN   ignored  \n",
       "2394       NaN   ignored  \n",
       "...        ...       ...  \n",
       "17717      NaN   ignored  \n",
       "17777      NaN   ignored  \n",
       "17860      NaN   ignored  \n",
       "17884      NaN   ignored  \n",
       "17885      NaN   ignored  \n",
       "17953      NaN   ignored  \n",
       "18016      NaN   ignored  \n",
       "18054      NaN   ignored  \n",
       "18086      NaN   ignored  \n",
       "18205      NaN   ignored  \n",
       "18299      NaN   ignored  \n",
       "18360      NaN   ignored  \n",
       "18393      NaN   ignored  \n",
       "18433      NaN   ignored  \n",
       "18455      NaN   ignored  \n",
       "18569      NaN   ignored  \n",
       "18579      NaN   ignored  \n",
       "18581      NaN   ignored  \n",
       "18585      NaN   ignored  \n",
       "18615      NaN   ignored  \n",
       "18648      NaN   ignored  \n",
       "18663      NaN   ignored  \n",
       "18668      NaN   ignored  \n",
       "18718      NaN   ignored  \n",
       "18751      NaN   ignored  \n",
       "18766      NaN   ignored  \n",
       "18783      NaN   ignored  \n",
       "18823      NaN   ignored  \n",
       "18921      NaN   ignored  \n",
       "18992      NaN   ignored  \n",
       "\n",
       "[548 rows x 4 columns]"
      ]
     },
     "execution_count": 6,
     "metadata": {},
     "output_type": "execute_result"
    }
   ],
   "source": [
    "get_nans_row = lambda df: df[df.isnull().any(axis=1)]\n",
    "nans_row = get_nans_row(df)\n",
    "print(nans_row.shape)\n",
    "nans_row"
   ]
  },
  {
   "cell_type": "code",
   "execution_count": 7,
   "metadata": {},
   "outputs": [
    {
     "data": {
      "text/plain": [
       "'Kamarnya luas. Bersih. Hanya untuk tempat sampah nya, plastiknya diganti jg, jadi jangan cuma isinya aja yang d buang. Selain itu. Ok kok'"
      ]
     },
     "execution_count": 7,
     "metadata": {},
     "output_type": "execute_result"
    }
   ],
   "source": [
    "df['reviews'][18992]"
   ]
  },
  {
   "cell_type": "code",
   "execution_count": 8,
   "metadata": {},
   "outputs": [
    {
     "data": {
      "text/plain": [
       "'Kamar mandi jelek banget, termasuk mahal fasilitasnya tidak sesuai dengan harga sewa per malam.'"
      ]
     },
     "execution_count": 8,
     "metadata": {},
     "output_type": "execute_result"
    }
   ],
   "source": [
    "df['reviews'][17953]"
   ]
  },
  {
   "cell_type": "code",
   "execution_count": 9,
   "metadata": {},
   "outputs": [],
   "source": [
    "# We can fill category that have nan value with \"ignored\"\n",
    "df.fillna(\"ignored\", inplace=True)"
   ]
  },
  {
   "cell_type": "markdown",
   "metadata": {},
   "source": [
    "### Check possible value each column"
   ]
  },
  {
   "cell_type": "code",
   "execution_count": 10,
   "metadata": {},
   "outputs": [
    {
     "data": {
      "text/plain": [
       "['wifi_P1-neg',\n",
       " 'kebersihan-neg',\n",
       " 'bau_P1-neg',\n",
       " 'service-neg',\n",
       " 'linen_P1-neg',\n",
       " 'ac_P1-neg',\n",
       " 'sunrise_meal_P1-pos',\n",
       " 'general-pos',\n",
       " 'air_panas_P1-neg',\n",
       " 'tv_P1-neg',\n",
       " 'service-pos',\n",
       " 'linen_P1-pos',\n",
       " 'kebersihan-pos',\n",
       " 'ac_P1-pos',\n",
       " 'air_panas_P1-pos',\n",
       " 'sunrise_meal_P1-neg',\n",
       " '-ignored-',\n",
       " 'wifi_P1-pos',\n",
       " 'tv_P1-pos',\n",
       " 'bau_P1-pos',\n",
       " 'general-neg']"
      ]
     },
     "execution_count": 10,
     "metadata": {},
     "output_type": "execute_result"
    }
   ],
   "source": [
    "df.category_sentiment.unique().tolist()"
   ]
  },
  {
   "cell_type": "code",
   "execution_count": 11,
   "metadata": {},
   "outputs": [
    {
     "data": {
      "text/plain": [
       "['wifi_P1',\n",
       " 'kebersihan',\n",
       " 'bau_P1',\n",
       " 'service',\n",
       " 'linen_P1',\n",
       " 'ac_P1',\n",
       " 'sunrise_meal_P1',\n",
       " 'general',\n",
       " 'air_panas_P1',\n",
       " 'tv_P1',\n",
       " 'ignored']"
      ]
     },
     "execution_count": 11,
     "metadata": {},
     "output_type": "execute_result"
    }
   ],
   "source": [
    "df.category.unique().tolist()"
   ]
  },
  {
   "cell_type": "code",
   "execution_count": 12,
   "metadata": {},
   "outputs": [
    {
     "data": {
      "text/plain": [
       "['neg', 'pos', 'ignored']"
      ]
     },
     "execution_count": 12,
     "metadata": {},
     "output_type": "execute_result"
    }
   ],
   "source": [
    "df.sentiment.unique().tolist()"
   ]
  },
  {
   "cell_type": "code",
   "execution_count": 13,
   "metadata": {},
   "outputs": [
    {
     "name": "stdout",
     "output_type": "stream",
     "text": [
      "Jumlah Review Unik :  9827\n"
     ]
    }
   ],
   "source": [
    "print(\"Jumlah Review Unik : \",len(df.reviews.unique().tolist()))"
   ]
  },
  {
   "cell_type": "markdown",
   "metadata": {},
   "source": [
    "### Check Imbalance data"
   ]
  },
  {
   "cell_type": "code",
   "execution_count": 14,
   "metadata": {},
   "outputs": [
    {
     "name": "stdout",
     "output_type": "stream",
     "text": [
      "neg        14555\n",
      "pos         3921\n",
      "ignored      548\n",
      "Name: sentiment, dtype: int64\n"
     ]
    },
    {
     "data": {
      "text/plain": [
       "<matplotlib.axes._subplots.AxesSubplot at 0x1a1acdf160>"
      ]
     },
     "execution_count": 14,
     "metadata": {},
     "output_type": "execute_result"
    },
    {
     "data": {
      "image/png": "[encoded data removed]",
      "text/plain": [
       "<Figure size 432x288 with 1 Axes>"
      ]
     },
     "metadata": {
      "needs_background": "light"
     },
     "output_type": "display_data"
    }
   ],
   "source": [
    "print(df['sentiment'].value_counts())\n",
    "sns.countplot(x='sentiment', data=df)"
   ]
  },
  {
   "cell_type": "code",
   "execution_count": 15,
   "metadata": {},
   "outputs": [
    {
     "data": {
      "text/plain": [
       "<seaborn.axisgrid.FacetGrid at 0x1a1bc47a90>"
      ]
     },
     "execution_count": 15,
     "metadata": {},
     "output_type": "execute_result"
    },
    {
     "data": {
      "image/png": "[encoded data removed]",
      "text/plain": [
       "<Figure size 866.25x792 with 1 Axes>"
      ]
     },
     "metadata": {
      "needs_background": "light"
     },
     "output_type": "display_data"
    }
   ],
   "source": [
    "data_grouped = df.groupby('category')['sentiment'].value_counts().to_frame()\n",
    "data_grouped = data_grouped.add_suffix('_count').reset_index()\n",
    "sns.catplot(x=\"category\", y=\"sentiment_count\", hue=\"sentiment\", kind=\"bar\", data=data_grouped, height=11)"
   ]
  },
  {
   "cell_type": "code",
   "execution_count": 18,
   "metadata": {},
   "outputs": [
    {
     "data": {
      "image/png": "[encoded data removed]",
      "text/plain": [
       "<Figure size 2160x504 with 1 Axes>"
      ]
     },
     "metadata": {
      "needs_background": "light"
     },
     "output_type": "display_data"
    }
   ],
   "source": [
    "fig = plt.figure()\n",
    "fig.set_figwidth(30)\n",
    "fig.set_figheight(7)\n",
    "ax = sns.countplot(x='category_sentiment', data=df)"
   ]
  },
  {
   "cell_type": "code",
   "execution_count": 42,
   "metadata": {},
   "outputs": [
    {
     "data": {
      "image/png": "[encoded data removed]",
      "text/plain": [
       "<Figure size 2160x504 with 1 Axes>"
      ]
     },
     "metadata": {
      "needs_background": "light"
     },
     "output_type": "display_data"
    }
   ],
   "source": [
    "fig = plt.figure()\n",
    "fig.set_figwidth(30)\n",
    "fig.set_figheight(7)\n",
    "ax = sns.countplot(x='category', data=a, order = df['category'].value_counts().index)\n",
    "ax.get_figure().savefig(\"test.png\")"
   ]
  },
  {
   "cell_type": "markdown",
   "metadata": {},
   "source": [
    "### Check multi labelled data"
   ]
  },
  {
   "cell_type": "code",
   "execution_count": 15,
   "metadata": {},
   "outputs": [
    {
     "data": {
      "image/png": "[encoded data removed]",
      "text/plain": [
       "<Figure size 720x504 with 1 Axes>"
      ]
     },
     "metadata": {
      "needs_background": "light"
     },
     "output_type": "display_data"
    }
   ],
   "source": [
    "droppedDuplicate = df.drop_duplicates()\n",
    "groupedByViews = droppedDuplicate['reviews'].value_counts().to_frame()\n",
    "labelPerReview = groupedByViews['reviews'].value_counts()\n",
    "fig = plt.figure()\n",
    "fig.set_figwidth(10)\n",
    "fig.set_figheight(7)\n",
    "plt.title(\"Multiple tags per review\")\n",
    "\n",
    "\n",
    "ax = ax = sns.barplot(labelPerReview.index, labelPerReview.values, alpha=0.8)\n",
    "plt.ylabel('# of Occurrences', fontsize=12)\n",
    "plt.xlabel('# of label assigned ', fontsize=12)\n",
    "#adding the text labels\n",
    "rects = ax.patches\n",
    "labels = labelPerReview.values\n",
    "for rect, label in zip(rects, labels):\n",
    "    height = rect.get_height()\n",
    "    ax.text(rect.get_x() + rect.get_width()/2, height + 5, label, ha='center', va='bottom')"
   ]
  },
  {
   "cell_type": "code",
   "execution_count": null,
   "metadata": {},
   "outputs": [],
   "source": []
  },
  {
   "cell_type": "code",
   "execution_count": null,
   "metadata": {},
   "outputs": [],
   "source": []
  }
 ],
 "metadata": {
  "kernelspec": {
   "display_name": "Python 3",
   "language": "python",
   "name": "python3"
  },
  "language_info": {
   "codemirror_mode": {
    "name": "ipython",
    "version": 3
   },
   "file_extension": ".py",
   "mimetype": "text/x-python",
   "name": "python",
   "nbconvert_exporter": "python",
   "pygments_lexer": "ipython3",
   "version": "3.7.3"
  }
 },
 "nbformat": 4,
 "nbformat_minor": 4
}
